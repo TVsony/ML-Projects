{
 "cells": [
  {
   "cell_type": "code",
   "execution_count": 1,
   "id": "8a49e803-204a-43c3-914f-b36d4c26c67e",
   "metadata": {},
   "outputs": [],
   "source": [
    "import pandas as pd\n",
    "import numpy as np\n",
    "import seaborn as sns\n",
    "import matplotlib.pyplot as plt\n",
    "%matplotlib inline\n",
    "import warnings\n",
    "warnings.filterwarnings('ignore')"
   ]
  },
  {
   "cell_type": "code",
   "execution_count": 2,
   "id": "a214f4d0-5225-4430-942d-b966a025d807",
   "metadata": {},
   "outputs": [],
   "source": [
    "from sklearn.datasets import load_iris"
   ]
  },
  {
   "cell_type": "code",
   "execution_count": 3,
   "id": "90c29f34-8655-436d-b6a9-9bacd9f7ccc4",
   "metadata": {},
   "outputs": [],
   "source": [
    "from sklearn.model_selection import train_test_split"
   ]
  },
  {
   "cell_type": "code",
   "execution_count": 4,
   "id": "e23c5797-7bd9-45ab-85cb-60482179ac3b",
   "metadata": {},
   "outputs": [],
   "source": [
    "X,y=load_iris(return_X_y=True)"
   ]
  },
  {
   "cell_type": "code",
   "execution_count": 5,
   "id": "0a1077a3-244a-4cee-a8ea-eb3e980ff9db",
   "metadata": {},
   "outputs": [
    {
     "data": {
      "text/plain": [
       "array([[5.1, 3.5, 1.4, 0.2],\n",
       "       [4.9, 3. , 1.4, 0.2],\n",
       "       [4.7, 3.2, 1.3, 0.2],\n",
       "       [4.6, 3.1, 1.5, 0.2],\n",
       "       [5. , 3.6, 1.4, 0.2],\n",
       "       [5.4, 3.9, 1.7, 0.4],\n",
       "       [4.6, 3.4, 1.4, 0.3],\n",
       "       [5. , 3.4, 1.5, 0.2],\n",
       "       [4.4, 2.9, 1.4, 0.2],\n",
       "       [4.9, 3.1, 1.5, 0.1],\n",
       "       [5.4, 3.7, 1.5, 0.2],\n",
       "       [4.8, 3.4, 1.6, 0.2],\n",
       "       [4.8, 3. , 1.4, 0.1],\n",
       "       [4.3, 3. , 1.1, 0.1],\n",
       "       [5.8, 4. , 1.2, 0.2],\n",
       "       [5.7, 4.4, 1.5, 0.4],\n",
       "       [5.4, 3.9, 1.3, 0.4],\n",
       "       [5.1, 3.5, 1.4, 0.3],\n",
       "       [5.7, 3.8, 1.7, 0.3],\n",
       "       [5.1, 3.8, 1.5, 0.3],\n",
       "       [5.4, 3.4, 1.7, 0.2],\n",
       "       [5.1, 3.7, 1.5, 0.4],\n",
       "       [4.6, 3.6, 1. , 0.2],\n",
       "       [5.1, 3.3, 1.7, 0.5],\n",
       "       [4.8, 3.4, 1.9, 0.2],\n",
       "       [5. , 3. , 1.6, 0.2],\n",
       "       [5. , 3.4, 1.6, 0.4],\n",
       "       [5.2, 3.5, 1.5, 0.2],\n",
       "       [5.2, 3.4, 1.4, 0.2],\n",
       "       [4.7, 3.2, 1.6, 0.2],\n",
       "       [4.8, 3.1, 1.6, 0.2],\n",
       "       [5.4, 3.4, 1.5, 0.4],\n",
       "       [5.2, 4.1, 1.5, 0.1],\n",
       "       [5.5, 4.2, 1.4, 0.2],\n",
       "       [4.9, 3.1, 1.5, 0.2],\n",
       "       [5. , 3.2, 1.2, 0.2],\n",
       "       [5.5, 3.5, 1.3, 0.2],\n",
       "       [4.9, 3.6, 1.4, 0.1],\n",
       "       [4.4, 3. , 1.3, 0.2],\n",
       "       [5.1, 3.4, 1.5, 0.2],\n",
       "       [5. , 3.5, 1.3, 0.3],\n",
       "       [4.5, 2.3, 1.3, 0.3],\n",
       "       [4.4, 3.2, 1.3, 0.2],\n",
       "       [5. , 3.5, 1.6, 0.6],\n",
       "       [5.1, 3.8, 1.9, 0.4],\n",
       "       [4.8, 3. , 1.4, 0.3],\n",
       "       [5.1, 3.8, 1.6, 0.2],\n",
       "       [4.6, 3.2, 1.4, 0.2],\n",
       "       [5.3, 3.7, 1.5, 0.2],\n",
       "       [5. , 3.3, 1.4, 0.2],\n",
       "       [7. , 3.2, 4.7, 1.4],\n",
       "       [6.4, 3.2, 4.5, 1.5],\n",
       "       [6.9, 3.1, 4.9, 1.5],\n",
       "       [5.5, 2.3, 4. , 1.3],\n",
       "       [6.5, 2.8, 4.6, 1.5],\n",
       "       [5.7, 2.8, 4.5, 1.3],\n",
       "       [6.3, 3.3, 4.7, 1.6],\n",
       "       [4.9, 2.4, 3.3, 1. ],\n",
       "       [6.6, 2.9, 4.6, 1.3],\n",
       "       [5.2, 2.7, 3.9, 1.4],\n",
       "       [5. , 2. , 3.5, 1. ],\n",
       "       [5.9, 3. , 4.2, 1.5],\n",
       "       [6. , 2.2, 4. , 1. ],\n",
       "       [6.1, 2.9, 4.7, 1.4],\n",
       "       [5.6, 2.9, 3.6, 1.3],\n",
       "       [6.7, 3.1, 4.4, 1.4],\n",
       "       [5.6, 3. , 4.5, 1.5],\n",
       "       [5.8, 2.7, 4.1, 1. ],\n",
       "       [6.2, 2.2, 4.5, 1.5],\n",
       "       [5.6, 2.5, 3.9, 1.1],\n",
       "       [5.9, 3.2, 4.8, 1.8],\n",
       "       [6.1, 2.8, 4. , 1.3],\n",
       "       [6.3, 2.5, 4.9, 1.5],\n",
       "       [6.1, 2.8, 4.7, 1.2],\n",
       "       [6.4, 2.9, 4.3, 1.3],\n",
       "       [6.6, 3. , 4.4, 1.4],\n",
       "       [6.8, 2.8, 4.8, 1.4],\n",
       "       [6.7, 3. , 5. , 1.7],\n",
       "       [6. , 2.9, 4.5, 1.5],\n",
       "       [5.7, 2.6, 3.5, 1. ],\n",
       "       [5.5, 2.4, 3.8, 1.1],\n",
       "       [5.5, 2.4, 3.7, 1. ],\n",
       "       [5.8, 2.7, 3.9, 1.2],\n",
       "       [6. , 2.7, 5.1, 1.6],\n",
       "       [5.4, 3. , 4.5, 1.5],\n",
       "       [6. , 3.4, 4.5, 1.6],\n",
       "       [6.7, 3.1, 4.7, 1.5],\n",
       "       [6.3, 2.3, 4.4, 1.3],\n",
       "       [5.6, 3. , 4.1, 1.3],\n",
       "       [5.5, 2.5, 4. , 1.3],\n",
       "       [5.5, 2.6, 4.4, 1.2],\n",
       "       [6.1, 3. , 4.6, 1.4],\n",
       "       [5.8, 2.6, 4. , 1.2],\n",
       "       [5. , 2.3, 3.3, 1. ],\n",
       "       [5.6, 2.7, 4.2, 1.3],\n",
       "       [5.7, 3. , 4.2, 1.2],\n",
       "       [5.7, 2.9, 4.2, 1.3],\n",
       "       [6.2, 2.9, 4.3, 1.3],\n",
       "       [5.1, 2.5, 3. , 1.1],\n",
       "       [5.7, 2.8, 4.1, 1.3],\n",
       "       [6.3, 3.3, 6. , 2.5],\n",
       "       [5.8, 2.7, 5.1, 1.9],\n",
       "       [7.1, 3. , 5.9, 2.1],\n",
       "       [6.3, 2.9, 5.6, 1.8],\n",
       "       [6.5, 3. , 5.8, 2.2],\n",
       "       [7.6, 3. , 6.6, 2.1],\n",
       "       [4.9, 2.5, 4.5, 1.7],\n",
       "       [7.3, 2.9, 6.3, 1.8],\n",
       "       [6.7, 2.5, 5.8, 1.8],\n",
       "       [7.2, 3.6, 6.1, 2.5],\n",
       "       [6.5, 3.2, 5.1, 2. ],\n",
       "       [6.4, 2.7, 5.3, 1.9],\n",
       "       [6.8, 3. , 5.5, 2.1],\n",
       "       [5.7, 2.5, 5. , 2. ],\n",
       "       [5.8, 2.8, 5.1, 2.4],\n",
       "       [6.4, 3.2, 5.3, 2.3],\n",
       "       [6.5, 3. , 5.5, 1.8],\n",
       "       [7.7, 3.8, 6.7, 2.2],\n",
       "       [7.7, 2.6, 6.9, 2.3],\n",
       "       [6. , 2.2, 5. , 1.5],\n",
       "       [6.9, 3.2, 5.7, 2.3],\n",
       "       [5.6, 2.8, 4.9, 2. ],\n",
       "       [7.7, 2.8, 6.7, 2. ],\n",
       "       [6.3, 2.7, 4.9, 1.8],\n",
       "       [6.7, 3.3, 5.7, 2.1],\n",
       "       [7.2, 3.2, 6. , 1.8],\n",
       "       [6.2, 2.8, 4.8, 1.8],\n",
       "       [6.1, 3. , 4.9, 1.8],\n",
       "       [6.4, 2.8, 5.6, 2.1],\n",
       "       [7.2, 3. , 5.8, 1.6],\n",
       "       [7.4, 2.8, 6.1, 1.9],\n",
       "       [7.9, 3.8, 6.4, 2. ],\n",
       "       [6.4, 2.8, 5.6, 2.2],\n",
       "       [6.3, 2.8, 5.1, 1.5],\n",
       "       [6.1, 2.6, 5.6, 1.4],\n",
       "       [7.7, 3. , 6.1, 2.3],\n",
       "       [6.3, 3.4, 5.6, 2.4],\n",
       "       [6.4, 3.1, 5.5, 1.8],\n",
       "       [6. , 3. , 4.8, 1.8],\n",
       "       [6.9, 3.1, 5.4, 2.1],\n",
       "       [6.7, 3.1, 5.6, 2.4],\n",
       "       [6.9, 3.1, 5.1, 2.3],\n",
       "       [5.8, 2.7, 5.1, 1.9],\n",
       "       [6.8, 3.2, 5.9, 2.3],\n",
       "       [6.7, 3.3, 5.7, 2.5],\n",
       "       [6.7, 3. , 5.2, 2.3],\n",
       "       [6.3, 2.5, 5. , 1.9],\n",
       "       [6.5, 3. , 5.2, 2. ],\n",
       "       [6.2, 3.4, 5.4, 2.3],\n",
       "       [5.9, 3. , 5.1, 1.8]])"
      ]
     },
     "execution_count": 5,
     "metadata": {},
     "output_type": "execute_result"
    }
   ],
   "source": [
    "X"
   ]
  },
  {
   "cell_type": "code",
   "execution_count": 6,
   "id": "70e04277-2d51-49d0-8397-48f4145fa7ff",
   "metadata": {},
   "outputs": [
    {
     "data": {
      "text/plain": [
       "array([0, 0, 0, 0, 0, 0, 0, 0, 0, 0, 0, 0, 0, 0, 0, 0, 0, 0, 0, 0, 0, 0,\n",
       "       0, 0, 0, 0, 0, 0, 0, 0, 0, 0, 0, 0, 0, 0, 0, 0, 0, 0, 0, 0, 0, 0,\n",
       "       0, 0, 0, 0, 0, 0, 1, 1, 1, 1, 1, 1, 1, 1, 1, 1, 1, 1, 1, 1, 1, 1,\n",
       "       1, 1, 1, 1, 1, 1, 1, 1, 1, 1, 1, 1, 1, 1, 1, 1, 1, 1, 1, 1, 1, 1,\n",
       "       1, 1, 1, 1, 1, 1, 1, 1, 1, 1, 1, 1, 2, 2, 2, 2, 2, 2, 2, 2, 2, 2,\n",
       "       2, 2, 2, 2, 2, 2, 2, 2, 2, 2, 2, 2, 2, 2, 2, 2, 2, 2, 2, 2, 2, 2,\n",
       "       2, 2, 2, 2, 2, 2, 2, 2, 2, 2, 2, 2, 2, 2, 2, 2, 2, 2])"
      ]
     },
     "execution_count": 6,
     "metadata": {},
     "output_type": "execute_result"
    }
   ],
   "source": [
    "y"
   ]
  },
  {
   "cell_type": "code",
   "execution_count": 7,
   "id": "da1e790c-6f1d-48b4-91ef-a0858e07a110",
   "metadata": {},
   "outputs": [],
   "source": [
    "X_train,X_test,y_train,y_test=train_test_split(X,y,test_size=0.3 , random_state=0)"
   ]
  },
  {
   "cell_type": "code",
   "execution_count": 8,
   "id": "2e197b00-d44f-4289-a7d7-ac73d910bd0b",
   "metadata": {},
   "outputs": [],
   "source": [
    "from sklearn.naive_bayes import GaussianNB"
   ]
  },
  {
   "cell_type": "code",
   "execution_count": 9,
   "id": "87e06d9d-a671-464e-8245-0f1896e28135",
   "metadata": {},
   "outputs": [],
   "source": [
    "gnb=GaussianNB()"
   ]
  },
  {
   "cell_type": "code",
   "execution_count": 10,
   "id": "6db5607a-20a8-4f35-b1fb-1a2c574e7b65",
   "metadata": {},
   "outputs": [
    {
     "data": {
      "text/html": [
       "<style>#sk-container-id-1 {color: black;background-color: white;}#sk-container-id-1 pre{padding: 0;}#sk-container-id-1 div.sk-toggleable {background-color: white;}#sk-container-id-1 label.sk-toggleable__label {cursor: pointer;display: block;width: 100%;margin-bottom: 0;padding: 0.3em;box-sizing: border-box;text-align: center;}#sk-container-id-1 label.sk-toggleable__label-arrow:before {content: \"▸\";float: left;margin-right: 0.25em;color: #696969;}#sk-container-id-1 label.sk-toggleable__label-arrow:hover:before {color: black;}#sk-container-id-1 div.sk-estimator:hover label.sk-toggleable__label-arrow:before {color: black;}#sk-container-id-1 div.sk-toggleable__content {max-height: 0;max-width: 0;overflow: hidden;text-align: left;background-color: #f0f8ff;}#sk-container-id-1 div.sk-toggleable__content pre {margin: 0.2em;color: black;border-radius: 0.25em;background-color: #f0f8ff;}#sk-container-id-1 input.sk-toggleable__control:checked~div.sk-toggleable__content {max-height: 200px;max-width: 100%;overflow: auto;}#sk-container-id-1 input.sk-toggleable__control:checked~label.sk-toggleable__label-arrow:before {content: \"▾\";}#sk-container-id-1 div.sk-estimator input.sk-toggleable__control:checked~label.sk-toggleable__label {background-color: #d4ebff;}#sk-container-id-1 div.sk-label input.sk-toggleable__control:checked~label.sk-toggleable__label {background-color: #d4ebff;}#sk-container-id-1 input.sk-hidden--visually {border: 0;clip: rect(1px 1px 1px 1px);clip: rect(1px, 1px, 1px, 1px);height: 1px;margin: -1px;overflow: hidden;padding: 0;position: absolute;width: 1px;}#sk-container-id-1 div.sk-estimator {font-family: monospace;background-color: #f0f8ff;border: 1px dotted black;border-radius: 0.25em;box-sizing: border-box;margin-bottom: 0.5em;}#sk-container-id-1 div.sk-estimator:hover {background-color: #d4ebff;}#sk-container-id-1 div.sk-parallel-item::after {content: \"\";width: 100%;border-bottom: 1px solid gray;flex-grow: 1;}#sk-container-id-1 div.sk-label:hover label.sk-toggleable__label {background-color: #d4ebff;}#sk-container-id-1 div.sk-serial::before {content: \"\";position: absolute;border-left: 1px solid gray;box-sizing: border-box;top: 0;bottom: 0;left: 50%;z-index: 0;}#sk-container-id-1 div.sk-serial {display: flex;flex-direction: column;align-items: center;background-color: white;padding-right: 0.2em;padding-left: 0.2em;position: relative;}#sk-container-id-1 div.sk-item {position: relative;z-index: 1;}#sk-container-id-1 div.sk-parallel {display: flex;align-items: stretch;justify-content: center;background-color: white;position: relative;}#sk-container-id-1 div.sk-item::before, #sk-container-id-1 div.sk-parallel-item::before {content: \"\";position: absolute;border-left: 1px solid gray;box-sizing: border-box;top: 0;bottom: 0;left: 50%;z-index: -1;}#sk-container-id-1 div.sk-parallel-item {display: flex;flex-direction: column;z-index: 1;position: relative;background-color: white;}#sk-container-id-1 div.sk-parallel-item:first-child::after {align-self: flex-end;width: 50%;}#sk-container-id-1 div.sk-parallel-item:last-child::after {align-self: flex-start;width: 50%;}#sk-container-id-1 div.sk-parallel-item:only-child::after {width: 0;}#sk-container-id-1 div.sk-dashed-wrapped {border: 1px dashed gray;margin: 0 0.4em 0.5em 0.4em;box-sizing: border-box;padding-bottom: 0.4em;background-color: white;}#sk-container-id-1 div.sk-label label {font-family: monospace;font-weight: bold;display: inline-block;line-height: 1.2em;}#sk-container-id-1 div.sk-label-container {text-align: center;}#sk-container-id-1 div.sk-container {/* jupyter's `normalize.less` sets `[hidden] { display: none; }` but bootstrap.min.css set `[hidden] { display: none !important; }` so we also need the `!important` here to be able to override the default hidden behavior on the sphinx rendered scikit-learn.org. See: https://github.com/scikit-learn/scikit-learn/issues/21755 */display: inline-block !important;position: relative;}#sk-container-id-1 div.sk-text-repr-fallback {display: none;}</style><div id=\"sk-container-id-1\" class=\"sk-top-container\"><div class=\"sk-text-repr-fallback\"><pre>GaussianNB()</pre><b>In a Jupyter environment, please rerun this cell to show the HTML representation or trust the notebook. <br />On GitHub, the HTML representation is unable to render, please try loading this page with nbviewer.org.</b></div><div class=\"sk-container\" hidden><div class=\"sk-item\"><div class=\"sk-estimator sk-toggleable\"><input class=\"sk-toggleable__control sk-hidden--visually\" id=\"sk-estimator-id-1\" type=\"checkbox\" checked><label for=\"sk-estimator-id-1\" class=\"sk-toggleable__label sk-toggleable__label-arrow\">GaussianNB</label><div class=\"sk-toggleable__content\"><pre>GaussianNB()</pre></div></div></div></div></div>"
      ],
      "text/plain": [
       "GaussianNB()"
      ]
     },
     "execution_count": 10,
     "metadata": {},
     "output_type": "execute_result"
    }
   ],
   "source": [
    "gnb.fit(X_train,y_train)"
   ]
  },
  {
   "cell_type": "code",
   "execution_count": 11,
   "id": "54b603cf-0456-41e2-be89-5359b5be813b",
   "metadata": {},
   "outputs": [],
   "source": [
    "y_pred = gnb.predict(X_test)"
   ]
  },
  {
   "cell_type": "code",
   "execution_count": 12,
   "id": "932216c3-da1f-417b-bb2d-11fe3f45408f",
   "metadata": {},
   "outputs": [],
   "source": [
    "from sklearn.metrics import accuracy_score,classification_report ,confusion_matrix"
   ]
  },
  {
   "cell_type": "code",
   "execution_count": 13,
   "id": "5c6d2db4-0ac7-4f56-8724-b509729764d5",
   "metadata": {},
   "outputs": [
    {
     "name": "stdout",
     "output_type": "stream",
     "text": [
      "[[16  0  0]\n",
      " [ 0 18  0]\n",
      " [ 0  0 11]]\n",
      "1.0\n",
      "              precision    recall  f1-score   support\n",
      "\n",
      "           0       1.00      1.00      1.00        16\n",
      "           1       1.00      1.00      1.00        18\n",
      "           2       1.00      1.00      1.00        11\n",
      "\n",
      "    accuracy                           1.00        45\n",
      "   macro avg       1.00      1.00      1.00        45\n",
      "weighted avg       1.00      1.00      1.00        45\n",
      "\n"
     ]
    }
   ],
   "source": [
    "print(confusion_matrix(y_pred,y_test))\n",
    "print(accuracy_score(y_pred,y_test))\n",
    "print(classification_report(y_pred,y_test))"
   ]
  },
  {
   "cell_type": "markdown",
   "id": "9b35734d-4e01-44a3-ae10-00912f1dde1c",
   "metadata": {},
   "source": [
    "# Dataset tips "
   ]
  },
  {
   "cell_type": "code",
   "execution_count": 14,
   "id": "281f19c6-198c-443b-9411-70c4c106f0d7",
   "metadata": {},
   "outputs": [
    {
     "data": {
      "text/html": [
       "<div>\n",
       "<style scoped>\n",
       "    .dataframe tbody tr th:only-of-type {\n",
       "        vertical-align: middle;\n",
       "    }\n",
       "\n",
       "    .dataframe tbody tr th {\n",
       "        vertical-align: top;\n",
       "    }\n",
       "\n",
       "    .dataframe thead th {\n",
       "        text-align: right;\n",
       "    }\n",
       "</style>\n",
       "<table border=\"1\" class=\"dataframe\">\n",
       "  <thead>\n",
       "    <tr style=\"text-align: right;\">\n",
       "      <th></th>\n",
       "      <th>total_bill</th>\n",
       "      <th>tip</th>\n",
       "      <th>sex</th>\n",
       "      <th>smoker</th>\n",
       "      <th>day</th>\n",
       "      <th>time</th>\n",
       "      <th>size</th>\n",
       "    </tr>\n",
       "  </thead>\n",
       "  <tbody>\n",
       "    <tr>\n",
       "      <th>0</th>\n",
       "      <td>16.99</td>\n",
       "      <td>1.01</td>\n",
       "      <td>Female</td>\n",
       "      <td>No</td>\n",
       "      <td>Sun</td>\n",
       "      <td>Dinner</td>\n",
       "      <td>2</td>\n",
       "    </tr>\n",
       "    <tr>\n",
       "      <th>1</th>\n",
       "      <td>10.34</td>\n",
       "      <td>1.66</td>\n",
       "      <td>Male</td>\n",
       "      <td>No</td>\n",
       "      <td>Sun</td>\n",
       "      <td>Dinner</td>\n",
       "      <td>3</td>\n",
       "    </tr>\n",
       "    <tr>\n",
       "      <th>2</th>\n",
       "      <td>21.01</td>\n",
       "      <td>3.50</td>\n",
       "      <td>Male</td>\n",
       "      <td>No</td>\n",
       "      <td>Sun</td>\n",
       "      <td>Dinner</td>\n",
       "      <td>3</td>\n",
       "    </tr>\n",
       "    <tr>\n",
       "      <th>3</th>\n",
       "      <td>23.68</td>\n",
       "      <td>3.31</td>\n",
       "      <td>Male</td>\n",
       "      <td>No</td>\n",
       "      <td>Sun</td>\n",
       "      <td>Dinner</td>\n",
       "      <td>2</td>\n",
       "    </tr>\n",
       "    <tr>\n",
       "      <th>4</th>\n",
       "      <td>24.59</td>\n",
       "      <td>3.61</td>\n",
       "      <td>Female</td>\n",
       "      <td>No</td>\n",
       "      <td>Sun</td>\n",
       "      <td>Dinner</td>\n",
       "      <td>4</td>\n",
       "    </tr>\n",
       "    <tr>\n",
       "      <th>...</th>\n",
       "      <td>...</td>\n",
       "      <td>...</td>\n",
       "      <td>...</td>\n",
       "      <td>...</td>\n",
       "      <td>...</td>\n",
       "      <td>...</td>\n",
       "      <td>...</td>\n",
       "    </tr>\n",
       "    <tr>\n",
       "      <th>239</th>\n",
       "      <td>29.03</td>\n",
       "      <td>5.92</td>\n",
       "      <td>Male</td>\n",
       "      <td>No</td>\n",
       "      <td>Sat</td>\n",
       "      <td>Dinner</td>\n",
       "      <td>3</td>\n",
       "    </tr>\n",
       "    <tr>\n",
       "      <th>240</th>\n",
       "      <td>27.18</td>\n",
       "      <td>2.00</td>\n",
       "      <td>Female</td>\n",
       "      <td>Yes</td>\n",
       "      <td>Sat</td>\n",
       "      <td>Dinner</td>\n",
       "      <td>2</td>\n",
       "    </tr>\n",
       "    <tr>\n",
       "      <th>241</th>\n",
       "      <td>22.67</td>\n",
       "      <td>2.00</td>\n",
       "      <td>Male</td>\n",
       "      <td>Yes</td>\n",
       "      <td>Sat</td>\n",
       "      <td>Dinner</td>\n",
       "      <td>2</td>\n",
       "    </tr>\n",
       "    <tr>\n",
       "      <th>242</th>\n",
       "      <td>17.82</td>\n",
       "      <td>1.75</td>\n",
       "      <td>Male</td>\n",
       "      <td>No</td>\n",
       "      <td>Sat</td>\n",
       "      <td>Dinner</td>\n",
       "      <td>2</td>\n",
       "    </tr>\n",
       "    <tr>\n",
       "      <th>243</th>\n",
       "      <td>18.78</td>\n",
       "      <td>3.00</td>\n",
       "      <td>Female</td>\n",
       "      <td>No</td>\n",
       "      <td>Thur</td>\n",
       "      <td>Dinner</td>\n",
       "      <td>2</td>\n",
       "    </tr>\n",
       "  </tbody>\n",
       "</table>\n",
       "<p>244 rows × 7 columns</p>\n",
       "</div>"
      ],
      "text/plain": [
       "     total_bill   tip     sex smoker   day    time  size\n",
       "0         16.99  1.01  Female     No   Sun  Dinner     2\n",
       "1         10.34  1.66    Male     No   Sun  Dinner     3\n",
       "2         21.01  3.50    Male     No   Sun  Dinner     3\n",
       "3         23.68  3.31    Male     No   Sun  Dinner     2\n",
       "4         24.59  3.61  Female     No   Sun  Dinner     4\n",
       "..          ...   ...     ...    ...   ...     ...   ...\n",
       "239       29.03  5.92    Male     No   Sat  Dinner     3\n",
       "240       27.18  2.00  Female    Yes   Sat  Dinner     2\n",
       "241       22.67  2.00    Male    Yes   Sat  Dinner     2\n",
       "242       17.82  1.75    Male     No   Sat  Dinner     2\n",
       "243       18.78  3.00  Female     No  Thur  Dinner     2\n",
       "\n",
       "[244 rows x 7 columns]"
      ]
     },
     "execution_count": 14,
     "metadata": {},
     "output_type": "execute_result"
    }
   ],
   "source": [
    "sns.load_dataset('tips')"
   ]
  },
  {
   "cell_type": "code",
   "execution_count": 15,
   "id": "08b84311-443e-4ed1-a037-e78a608b1ba7",
   "metadata": {},
   "outputs": [],
   "source": [
    "df = sns.load_dataset('tips')"
   ]
  },
  {
   "cell_type": "code",
   "execution_count": 16,
   "id": "9fa16772-9dc6-4c5a-a4f5-dfcf92002bbc",
   "metadata": {},
   "outputs": [
    {
     "name": "stdout",
     "output_type": "stream",
     "text": [
      "<class 'pandas.core.frame.DataFrame'>\n",
      "RangeIndex: 244 entries, 0 to 243\n",
      "Data columns (total 7 columns):\n",
      " #   Column      Non-Null Count  Dtype   \n",
      "---  ------      --------------  -----   \n",
      " 0   total_bill  244 non-null    float64 \n",
      " 1   tip         244 non-null    float64 \n",
      " 2   sex         244 non-null    category\n",
      " 3   smoker      244 non-null    category\n",
      " 4   day         244 non-null    category\n",
      " 5   time        244 non-null    category\n",
      " 6   size        244 non-null    int64   \n",
      "dtypes: category(4), float64(2), int64(1)\n",
      "memory usage: 7.4 KB\n"
     ]
    }
   ],
   "source": [
    "df.info()"
   ]
  },
  {
   "cell_type": "code",
   "execution_count": 17,
   "id": "7a7685d0-03e1-4123-98aa-2cc8314c4d22",
   "metadata": {},
   "outputs": [
    {
     "data": {
      "text/plain": [
       "sex\n",
       "Male      157\n",
       "Female     87\n",
       "Name: count, dtype: int64"
      ]
     },
     "execution_count": 17,
     "metadata": {},
     "output_type": "execute_result"
    }
   ],
   "source": [
    "df['sex'].value_counts()"
   ]
  },
  {
   "cell_type": "code",
   "execution_count": 18,
   "id": "e6af569a-8e65-4afe-8777-fbf1a2651f0f",
   "metadata": {},
   "outputs": [
    {
     "data": {
      "text/plain": [
       "time\n",
       "Dinner    176\n",
       "Lunch      68\n",
       "Name: count, dtype: int64"
      ]
     },
     "execution_count": 18,
     "metadata": {},
     "output_type": "execute_result"
    }
   ],
   "source": [
    "df['time'].value_counts()"
   ]
  },
  {
   "cell_type": "code",
   "execution_count": 19,
   "id": "88db99c4-c83d-4d8e-881d-95b5fe5c93b4",
   "metadata": {},
   "outputs": [
    {
     "data": {
      "text/plain": [
       "smoker\n",
       "No     151\n",
       "Yes     93\n",
       "Name: count, dtype: int64"
      ]
     },
     "execution_count": 19,
     "metadata": {},
     "output_type": "execute_result"
    }
   ],
   "source": [
    "df['smoker'].value_counts()"
   ]
  },
  {
   "cell_type": "code",
   "execution_count": 20,
   "id": "23df7c9d-4aa7-4a85-8f15-197f87d18739",
   "metadata": {},
   "outputs": [
    {
     "data": {
      "text/plain": [
       "day\n",
       "Sat     87\n",
       "Sun     76\n",
       "Thur    62\n",
       "Fri     19\n",
       "Name: count, dtype: int64"
      ]
     },
     "execution_count": 20,
     "metadata": {},
     "output_type": "execute_result"
    }
   ],
   "source": [
    "df['day'].value_counts()"
   ]
  },
  {
   "cell_type": "markdown",
   "id": "d43a775f-f570-4911-b846-7b7ac0b834a9",
   "metadata": {},
   "source": [
    "# feature Encoding\n",
    "- If feature are present in binary form then use **LAbel encoding** here [time, smoker, sex are binary outcomes so use LAble encoding]\n",
    "- If feature are present more than two then use **OneHot Encoding** [ day feature consit of more than two outcome so use OneHot Encoding)"
   ]
  },
  {
   "cell_type": "code",
   "execution_count": 21,
   "id": "a2914b56-c8d7-4e34-ae0a-eeb59e5a6f8a",
   "metadata": {},
   "outputs": [
    {
     "data": {
      "text/plain": [
       "Index(['total_bill', 'tip', 'sex', 'smoker', 'day', 'time', 'size'], dtype='object')"
      ]
     },
     "execution_count": 21,
     "metadata": {},
     "output_type": "execute_result"
    }
   ],
   "source": [
    "df.columns"
   ]
  },
  {
   "cell_type": "code",
   "execution_count": 22,
   "id": "3074500f-d31a-4249-a803-0308ed2deaea",
   "metadata": {},
   "outputs": [],
   "source": [
    "X = df[['total_bill', 'tip', 'sex', 'smoker', 'day','size']]\n",
    "y = df['time']"
   ]
  },
  {
   "cell_type": "code",
   "execution_count": 23,
   "id": "f2b0294a-6d98-4553-a67e-448a940d693b",
   "metadata": {},
   "outputs": [],
   "source": [
    "from sklearn.model_selection import train_test_split\n",
    "X_train,X_test,y_train,y_test=train_test_split(X,y, test_size=0.2 ,random_state=0)"
   ]
  },
  {
   "cell_type": "code",
   "execution_count": 24,
   "id": "03a79e6f-fc77-487f-bd8b-7e39dd8a2037",
   "metadata": {},
   "outputs": [
    {
     "data": {
      "text/html": [
       "<div>\n",
       "<style scoped>\n",
       "    .dataframe tbody tr th:only-of-type {\n",
       "        vertical-align: middle;\n",
       "    }\n",
       "\n",
       "    .dataframe tbody tr th {\n",
       "        vertical-align: top;\n",
       "    }\n",
       "\n",
       "    .dataframe thead th {\n",
       "        text-align: right;\n",
       "    }\n",
       "</style>\n",
       "<table border=\"1\" class=\"dataframe\">\n",
       "  <thead>\n",
       "    <tr style=\"text-align: right;\">\n",
       "      <th></th>\n",
       "      <th>total_bill</th>\n",
       "      <th>tip</th>\n",
       "      <th>sex</th>\n",
       "      <th>smoker</th>\n",
       "      <th>day</th>\n",
       "      <th>size</th>\n",
       "    </tr>\n",
       "  </thead>\n",
       "  <tbody>\n",
       "    <tr>\n",
       "      <th>7</th>\n",
       "      <td>26.88</td>\n",
       "      <td>3.12</td>\n",
       "      <td>Male</td>\n",
       "      <td>No</td>\n",
       "      <td>Sun</td>\n",
       "      <td>4</td>\n",
       "    </tr>\n",
       "    <tr>\n",
       "      <th>83</th>\n",
       "      <td>32.68</td>\n",
       "      <td>5.00</td>\n",
       "      <td>Male</td>\n",
       "      <td>Yes</td>\n",
       "      <td>Thur</td>\n",
       "      <td>2</td>\n",
       "    </tr>\n",
       "    <tr>\n",
       "      <th>176</th>\n",
       "      <td>17.89</td>\n",
       "      <td>2.00</td>\n",
       "      <td>Male</td>\n",
       "      <td>Yes</td>\n",
       "      <td>Sun</td>\n",
       "      <td>2</td>\n",
       "    </tr>\n",
       "    <tr>\n",
       "      <th>106</th>\n",
       "      <td>20.49</td>\n",
       "      <td>4.06</td>\n",
       "      <td>Male</td>\n",
       "      <td>Yes</td>\n",
       "      <td>Sat</td>\n",
       "      <td>2</td>\n",
       "    </tr>\n",
       "    <tr>\n",
       "      <th>156</th>\n",
       "      <td>48.17</td>\n",
       "      <td>5.00</td>\n",
       "      <td>Male</td>\n",
       "      <td>No</td>\n",
       "      <td>Sun</td>\n",
       "      <td>6</td>\n",
       "    </tr>\n",
       "  </tbody>\n",
       "</table>\n",
       "</div>"
      ],
      "text/plain": [
       "     total_bill   tip   sex smoker   day  size\n",
       "7         26.88  3.12  Male     No   Sun     4\n",
       "83        32.68  5.00  Male    Yes  Thur     2\n",
       "176       17.89  2.00  Male    Yes   Sun     2\n",
       "106       20.49  4.06  Male    Yes   Sat     2\n",
       "156       48.17  5.00  Male     No   Sun     6"
      ]
     },
     "execution_count": 24,
     "metadata": {},
     "output_type": "execute_result"
    }
   ],
   "source": [
    "X_train.head()"
   ]
  },
  {
   "cell_type": "markdown",
   "id": "8bfee2d4-99fb-4405-a91f-ed38880c724a",
   "metadata": {},
   "source": [
    "# Lable Encoding"
   ]
  },
  {
   "cell_type": "code",
   "execution_count": 25,
   "id": "07a91c23-b160-41fd-b300-c51c7246cf7d",
   "metadata": {},
   "outputs": [],
   "source": [
    "from sklearn.preprocessing import LabelEncoder"
   ]
  },
  {
   "cell_type": "code",
   "execution_count": 26,
   "id": "3a8a508f-6cbc-4540-a5db-d0722c6eafe3",
   "metadata": {},
   "outputs": [],
   "source": [
    "# Initialize LabelEncoders\n",
    "le_sex = LabelEncoder()\n",
    "le_smoker = LabelEncoder()\n",
    "le_time = LabelEncoder()"
   ]
  },
  {
   "cell_type": "code",
   "execution_count": 27,
   "id": "cbe0f412-7e28-4e93-aa51-cda4976c7025",
   "metadata": {},
   "outputs": [],
   "source": [
    "# Fit the LabelEncoders on the training data\n",
    "X_train['sex'] = le_sex.fit_transform(X_train['sex'])\n",
    "X_train['smoker'] = le_smoker.fit_transform(X_train['smoker'])\n",
    "y_train = le_time.fit_transform(y_train)"
   ]
  },
  {
   "cell_type": "code",
   "execution_count": 28,
   "id": "772f5560-7a3c-4475-98d8-9ff6bbbadcd1",
   "metadata": {},
   "outputs": [],
   "source": [
    "# Transform the test data using the fitted LabelEncoders\n",
    "X_test['sex'] = le_sex.transform(X_test['sex'])\n",
    "X_test['smoker'] = le_smoker.transform(X_test['smoker'])\n",
    "y_test = le_time.transform(y_test)"
   ]
  },
  {
   "cell_type": "code",
   "execution_count": 29,
   "id": "c9917bfc-99da-44e7-a516-37d80b172599",
   "metadata": {},
   "outputs": [
    {
     "data": {
      "text/html": [
       "<div>\n",
       "<style scoped>\n",
       "    .dataframe tbody tr th:only-of-type {\n",
       "        vertical-align: middle;\n",
       "    }\n",
       "\n",
       "    .dataframe tbody tr th {\n",
       "        vertical-align: top;\n",
       "    }\n",
       "\n",
       "    .dataframe thead th {\n",
       "        text-align: right;\n",
       "    }\n",
       "</style>\n",
       "<table border=\"1\" class=\"dataframe\">\n",
       "  <thead>\n",
       "    <tr style=\"text-align: right;\">\n",
       "      <th></th>\n",
       "      <th>total_bill</th>\n",
       "      <th>tip</th>\n",
       "      <th>sex</th>\n",
       "      <th>smoker</th>\n",
       "      <th>day</th>\n",
       "      <th>size</th>\n",
       "    </tr>\n",
       "  </thead>\n",
       "  <tbody>\n",
       "    <tr>\n",
       "      <th>7</th>\n",
       "      <td>26.88</td>\n",
       "      <td>3.12</td>\n",
       "      <td>1</td>\n",
       "      <td>0</td>\n",
       "      <td>Sun</td>\n",
       "      <td>4</td>\n",
       "    </tr>\n",
       "    <tr>\n",
       "      <th>83</th>\n",
       "      <td>32.68</td>\n",
       "      <td>5.00</td>\n",
       "      <td>1</td>\n",
       "      <td>1</td>\n",
       "      <td>Thur</td>\n",
       "      <td>2</td>\n",
       "    </tr>\n",
       "    <tr>\n",
       "      <th>176</th>\n",
       "      <td>17.89</td>\n",
       "      <td>2.00</td>\n",
       "      <td>1</td>\n",
       "      <td>1</td>\n",
       "      <td>Sun</td>\n",
       "      <td>2</td>\n",
       "    </tr>\n",
       "    <tr>\n",
       "      <th>106</th>\n",
       "      <td>20.49</td>\n",
       "      <td>4.06</td>\n",
       "      <td>1</td>\n",
       "      <td>1</td>\n",
       "      <td>Sat</td>\n",
       "      <td>2</td>\n",
       "    </tr>\n",
       "    <tr>\n",
       "      <th>156</th>\n",
       "      <td>48.17</td>\n",
       "      <td>5.00</td>\n",
       "      <td>1</td>\n",
       "      <td>0</td>\n",
       "      <td>Sun</td>\n",
       "      <td>6</td>\n",
       "    </tr>\n",
       "  </tbody>\n",
       "</table>\n",
       "</div>"
      ],
      "text/plain": [
       "     total_bill   tip  sex  smoker   day  size\n",
       "7         26.88  3.12    1       0   Sun     4\n",
       "83        32.68  5.00    1       1  Thur     2\n",
       "176       17.89  2.00    1       1   Sun     2\n",
       "106       20.49  4.06    1       1   Sat     2\n",
       "156       48.17  5.00    1       0   Sun     6"
      ]
     },
     "execution_count": 29,
     "metadata": {},
     "output_type": "execute_result"
    }
   ],
   "source": [
    "X_train.head()"
   ]
  },
  {
   "cell_type": "markdown",
   "id": "fb2bcdf2-7b51-499e-9f3a-1fabbf9a0365",
   "metadata": {},
   "source": [
    "# OneHot Encoding for More than two outcome -- columnTransformer"
   ]
  },
  {
   "cell_type": "code",
   "execution_count": 30,
   "id": "7c1d9974-b473-4c6d-9df6-68d052ffdfb9",
   "metadata": {},
   "outputs": [
    {
     "data": {
      "text/plain": [
       "array([[0., 1., 0., ..., 1., 0., 4.],\n",
       "       [0., 0., 1., ..., 1., 1., 2.],\n",
       "       [0., 1., 0., ..., 1., 1., 2.],\n",
       "       ...,\n",
       "       [0., 0., 1., ..., 0., 0., 2.],\n",
       "       [0., 1., 0., ..., 1., 0., 4.],\n",
       "       [0., 1., 0., ..., 1., 1., 2.]])"
      ]
     },
     "execution_count": 30,
     "metadata": {},
     "output_type": "execute_result"
    }
   ],
   "source": [
    "# OneHot Encoding for More than two outcome -- columnTransformer \n",
    "from sklearn.compose import ColumnTransformer\n",
    "from sklearn.preprocessing import OneHotEncoder\n",
    "ct=ColumnTransformer(transformers=[('onehot',OneHotEncoder(drop='first'),[4])],remainder='passthrough')\n",
    "ct.fit_transform(X_train)"
   ]
  },
  {
   "cell_type": "code",
   "execution_count": 31,
   "id": "a1df168b-29fa-4843-9132-b02b9b3e0e4e",
   "metadata": {},
   "outputs": [],
   "source": [
    "import sys\n",
    "np.set_printoptions(threshold=sys.maxsize)\n",
    "X_train = ct.fit_transform(X_train)"
   ]
  },
  {
   "cell_type": "code",
   "execution_count": 32,
   "id": "46a3a0b9-c974-4dcd-8ebe-6b79c945eb49",
   "metadata": {},
   "outputs": [],
   "source": [
    "X_test=ct.fit_transform(X_test)"
   ]
  },
  {
   "cell_type": "code",
   "execution_count": 33,
   "id": "9de30b83-ac2b-49db-a965-8d7c948b827c",
   "metadata": {},
   "outputs": [
    {
     "data": {
      "text/plain": [
       "array([[ 1.  ,  0.  ,  0.  , 17.59,  2.64,  1.  ,  0.  ,  3.  ],\n",
       "       [ 1.  ,  0.  ,  0.  , 18.29,  3.76,  1.  ,  1.  ,  4.  ],\n",
       "       [ 0.  ,  1.  ,  0.  , 19.49,  3.51,  1.  ,  0.  ,  2.  ],\n",
       "       [ 1.  ,  0.  ,  0.  ,  7.25,  1.  ,  0.  ,  0.  ,  1.  ],\n",
       "       [ 0.  ,  0.  ,  0.  , 16.27,  2.5 ,  0.  ,  1.  ,  2.  ],\n",
       "       [ 0.  ,  0.  ,  0.  ,  5.75,  1.  ,  0.  ,  1.  ,  2.  ],\n",
       "       [ 1.  ,  0.  ,  0.  , 17.92,  3.08,  1.  ,  1.  ,  2.  ],\n",
       "       [ 0.  ,  1.  ,  0.  , 23.33,  5.65,  1.  ,  1.  ,  2.  ],\n",
       "       [ 0.  ,  1.  ,  0.  , 18.15,  3.5 ,  0.  ,  1.  ,  3.  ],\n",
       "       [ 0.  ,  1.  ,  0.  , 34.65,  3.68,  1.  ,  1.  ,  4.  ],\n",
       "       [ 1.  ,  0.  ,  0.  , 25.28,  5.  ,  0.  ,  1.  ,  2.  ],\n",
       "       [ 1.  ,  0.  ,  0.  , 25.21,  4.29,  1.  ,  1.  ,  2.  ],\n",
       "       [ 0.  ,  1.  ,  0.  , 14.07,  2.5 ,  1.  ,  0.  ,  2.  ],\n",
       "       [ 0.  ,  0.  ,  1.  , 13.  ,  2.  ,  0.  ,  1.  ,  2.  ],\n",
       "       [ 0.  ,  0.  ,  0.  , 13.42,  1.58,  1.  ,  1.  ,  2.  ],\n",
       "       [ 0.  ,  1.  ,  0.  , 30.4 ,  5.6 ,  1.  ,  0.  ,  4.  ],\n",
       "       [ 0.  ,  0.  ,  1.  ,  8.35,  1.5 ,  0.  ,  0.  ,  2.  ],\n",
       "       [ 1.  ,  0.  ,  0.  , 14.  ,  3.  ,  1.  ,  0.  ,  2.  ],\n",
       "       [ 0.  ,  0.  ,  1.  , 18.78,  3.  ,  0.  ,  0.  ,  2.  ],\n",
       "       [ 0.  ,  1.  ,  0.  , 23.1 ,  4.  ,  1.  ,  1.  ,  3.  ],\n",
       "       [ 1.  ,  0.  ,  0.  , 30.06,  2.  ,  1.  ,  1.  ,  3.  ],\n",
       "       [ 1.  ,  0.  ,  0.  , 20.92,  4.08,  0.  ,  0.  ,  2.  ],\n",
       "       [ 0.  ,  0.  ,  1.  , 16.  ,  2.  ,  1.  ,  1.  ,  2.  ],\n",
       "       [ 0.  ,  1.  ,  0.  , 15.04,  1.96,  1.  ,  0.  ,  2.  ],\n",
       "       [ 0.  ,  0.  ,  1.  , 13.51,  2.  ,  1.  ,  1.  ,  2.  ],\n",
       "       [ 0.  ,  0.  ,  1.  , 16.4 ,  2.5 ,  0.  ,  1.  ,  2.  ],\n",
       "       [ 0.  ,  0.  ,  0.  , 12.16,  2.2 ,  1.  ,  1.  ,  2.  ],\n",
       "       [ 0.  ,  0.  ,  1.  , 29.8 ,  4.2 ,  0.  ,  0.  ,  6.  ],\n",
       "       [ 0.  ,  1.  ,  0.  , 25.29,  4.71,  1.  ,  0.  ,  4.  ],\n",
       "       [ 1.  ,  0.  ,  0.  , 15.77,  2.23,  0.  ,  0.  ,  2.  ],\n",
       "       [ 1.  ,  0.  ,  0.  , 14.73,  2.2 ,  0.  ,  0.  ,  2.  ],\n",
       "       [ 0.  ,  0.  ,  1.  , 12.48,  2.52,  0.  ,  0.  ,  2.  ],\n",
       "       [ 0.  ,  1.  ,  0.  , 15.42,  1.57,  1.  ,  0.  ,  2.  ],\n",
       "       [ 1.  ,  0.  ,  0.  , 10.59,  1.61,  0.  ,  1.  ,  2.  ],\n",
       "       [ 0.  ,  1.  ,  0.  , 18.29,  3.  ,  1.  ,  0.  ,  2.  ],\n",
       "       [ 0.  ,  1.  ,  0.  , 13.39,  2.61,  0.  ,  0.  ,  2.  ],\n",
       "       [ 1.  ,  0.  ,  0.  , 16.93,  3.07,  0.  ,  0.  ,  3.  ],\n",
       "       [ 0.  ,  0.  ,  1.  , 10.33,  2.  ,  0.  ,  0.  ,  2.  ],\n",
       "       [ 1.  ,  0.  ,  0.  , 48.33,  9.  ,  1.  ,  0.  ,  4.  ],\n",
       "       [ 0.  ,  0.  ,  0.  , 15.98,  3.  ,  0.  ,  0.  ,  3.  ],\n",
       "       [ 0.  ,  0.  ,  0.  ,  8.58,  1.92,  1.  ,  1.  ,  1.  ],\n",
       "       [ 0.  ,  0.  ,  1.  , 12.43,  1.8 ,  0.  ,  0.  ,  2.  ],\n",
       "       [ 1.  ,  0.  ,  0.  , 15.69,  3.  ,  1.  ,  1.  ,  3.  ],\n",
       "       [ 0.  ,  1.  ,  0.  , 29.85,  5.14,  0.  ,  0.  ,  5.  ],\n",
       "       [ 1.  ,  0.  ,  0.  , 12.76,  2.23,  0.  ,  1.  ,  2.  ],\n",
       "       [ 0.  ,  1.  ,  0.  , 16.97,  3.5 ,  0.  ,  0.  ,  3.  ],\n",
       "       [ 1.  ,  0.  ,  0.  , 18.24,  3.76,  1.  ,  0.  ,  2.  ],\n",
       "       [ 0.  ,  1.  ,  0.  , 21.58,  3.92,  1.  ,  0.  ,  2.  ],\n",
       "       [ 1.  ,  0.  ,  0.  , 17.07,  3.  ,  0.  ,  0.  ,  3.  ]])"
      ]
     },
     "execution_count": 33,
     "metadata": {},
     "output_type": "execute_result"
    }
   ],
   "source": [
    "X_test"
   ]
  },
  {
   "cell_type": "code",
   "execution_count": 34,
   "id": "cd020319-1f8c-41d0-8e67-dfe435b6dec1",
   "metadata": {},
   "outputs": [
    {
     "data": {
      "text/plain": [
       "array([[ 0.  ,  1.  ,  0.  , 26.88,  3.12,  1.  ,  0.  ,  4.  ],\n",
       "       [ 0.  ,  0.  ,  1.  , 32.68,  5.  ,  1.  ,  1.  ,  2.  ],\n",
       "       [ 0.  ,  1.  ,  0.  , 17.89,  2.  ,  1.  ,  1.  ,  2.  ],\n",
       "       [ 1.  ,  0.  ,  0.  , 20.49,  4.06,  1.  ,  1.  ,  2.  ],\n",
       "       [ 0.  ,  1.  ,  0.  , 48.17,  5.  ,  1.  ,  0.  ,  6.  ],\n",
       "       [ 0.  ,  1.  ,  0.  ,  9.6 ,  4.  ,  0.  ,  1.  ,  2.  ],\n",
       "       [ 0.  ,  0.  ,  0.  , 12.03,  1.5 ,  1.  ,  1.  ,  2.  ],\n",
       "       [ 0.  ,  1.  ,  0.  , 29.93,  5.07,  1.  ,  0.  ,  4.  ],\n",
       "       [ 1.  ,  0.  ,  0.  , 20.69,  2.45,  0.  ,  0.  ,  4.  ],\n",
       "       [ 0.  ,  0.  ,  1.  , 14.26,  2.5 ,  1.  ,  0.  ,  2.  ],\n",
       "       [ 0.  ,  1.  ,  0.  , 12.66,  2.5 ,  1.  ,  0.  ,  2.  ],\n",
       "       [ 0.  ,  0.  ,  0.  , 27.28,  4.  ,  1.  ,  1.  ,  2.  ],\n",
       "       [ 1.  ,  0.  ,  0.  , 15.81,  3.16,  1.  ,  1.  ,  2.  ],\n",
       "       [ 0.  ,  0.  ,  1.  , 21.16,  3.  ,  1.  ,  0.  ,  2.  ],\n",
       "       [ 0.  ,  1.  ,  0.  , 25.  ,  3.75,  0.  ,  0.  ,  4.  ],\n",
       "       [ 1.  ,  0.  ,  0.  , 30.14,  3.09,  0.  ,  1.  ,  4.  ],\n",
       "       [ 1.  ,  0.  ,  0.  , 15.53,  3.  ,  1.  ,  1.  ,  2.  ],\n",
       "       [ 0.  ,  0.  ,  1.  , 16.47,  3.23,  0.  ,  1.  ,  3.  ],\n",
       "       [ 1.  ,  0.  ,  0.  , 32.83,  1.17,  1.  ,  1.  ,  2.  ],\n",
       "       [ 0.  ,  1.  ,  0.  , 10.33,  1.67,  0.  ,  0.  ,  3.  ],\n",
       "       [ 0.  ,  0.  ,  0.  , 28.97,  3.  ,  1.  ,  1.  ,  2.  ],\n",
       "       [ 0.  ,  0.  ,  0.  , 15.38,  3.  ,  0.  ,  1.  ,  2.  ],\n",
       "       [ 1.  ,  0.  ,  0.  , 10.51,  1.25,  1.  ,  0.  ,  2.  ],\n",
       "       [ 0.  ,  1.  ,  0.  , 24.59,  3.61,  0.  ,  0.  ,  4.  ],\n",
       "       [ 1.  ,  0.  ,  0.  , 14.31,  4.  ,  0.  ,  1.  ,  2.  ],\n",
       "       [ 1.  ,  0.  ,  0.  , 13.81,  2.  ,  1.  ,  1.  ,  2.  ],\n",
       "       [ 0.  ,  0.  ,  1.  , 18.64,  1.36,  0.  ,  0.  ,  3.  ],\n",
       "       [ 0.  ,  1.  ,  0.  , 34.81,  5.2 ,  0.  ,  0.  ,  4.  ],\n",
       "       [ 1.  ,  0.  ,  0.  , 16.45,  2.47,  0.  ,  0.  ,  2.  ],\n",
       "       [ 1.  ,  0.  ,  0.  , 13.37,  2.  ,  1.  ,  0.  ,  2.  ],\n",
       "       [ 0.  ,  0.  ,  1.  , 18.26,  3.25,  0.  ,  0.  ,  2.  ],\n",
       "       [ 0.  ,  0.  ,  1.  ,  8.51,  1.25,  0.  ,  0.  ,  2.  ],\n",
       "       [ 1.  ,  0.  ,  0.  , 11.59,  1.5 ,  1.  ,  1.  ,  2.  ],\n",
       "       [ 1.  ,  0.  ,  0.  , 16.04,  2.24,  1.  ,  0.  ,  3.  ],\n",
       "       [ 0.  ,  1.  ,  0.  , 18.43,  3.  ,  1.  ,  0.  ,  4.  ],\n",
       "       [ 0.  ,  1.  ,  0.  , 23.68,  3.31,  1.  ,  0.  ,  2.  ],\n",
       "       [ 0.  ,  1.  ,  0.  , 17.26,  2.74,  1.  ,  0.  ,  3.  ],\n",
       "       [ 1.  ,  0.  ,  0.  , 19.82,  3.18,  1.  ,  0.  ,  2.  ],\n",
       "       [ 1.  ,  0.  ,  0.  ,  9.55,  1.45,  1.  ,  0.  ,  2.  ],\n",
       "       [ 1.  ,  0.  ,  0.  ,  7.74,  1.44,  1.  ,  1.  ,  2.  ],\n",
       "       [ 1.  ,  0.  ,  0.  , 20.29,  3.21,  1.  ,  1.  ,  2.  ],\n",
       "       [ 1.  ,  0.  ,  0.  , 38.01,  3.  ,  1.  ,  1.  ,  4.  ],\n",
       "       [ 0.  ,  1.  ,  0.  , 34.63,  3.55,  1.  ,  1.  ,  2.  ],\n",
       "       [ 1.  ,  0.  ,  0.  , 28.17,  6.5 ,  0.  ,  1.  ,  3.  ],\n",
       "       [ 1.  ,  0.  ,  0.  , 20.65,  3.35,  1.  ,  0.  ,  3.  ],\n",
       "       [ 0.  ,  1.  ,  0.  , 45.35,  3.5 ,  1.  ,  1.  ,  3.  ],\n",
       "       [ 0.  ,  0.  ,  1.  , 22.82,  2.18,  1.  ,  0.  ,  3.  ],\n",
       "       [ 0.  ,  1.  ,  0.  , 25.56,  4.34,  1.  ,  0.  ,  4.  ],\n",
       "       [ 1.  ,  0.  ,  0.  , 35.83,  4.67,  0.  ,  0.  ,  3.  ],\n",
       "       [ 0.  ,  0.  ,  1.  , 19.44,  3.  ,  1.  ,  1.  ,  2.  ],\n",
       "       [ 0.  ,  1.  ,  0.  , 10.29,  2.6 ,  0.  ,  0.  ,  2.  ],\n",
       "       [ 0.  ,  0.  ,  1.  , 15.95,  2.  ,  1.  ,  0.  ,  2.  ],\n",
       "       [ 0.  ,  0.  ,  1.  , 12.74,  2.01,  0.  ,  1.  ,  2.  ],\n",
       "       [ 0.  ,  0.  ,  1.  , 19.08,  1.5 ,  1.  ,  0.  ,  2.  ],\n",
       "       [ 0.  ,  0.  ,  1.  , 13.03,  2.  ,  1.  ,  0.  ,  2.  ],\n",
       "       [ 0.  ,  1.  ,  0.  , 10.27,  1.71,  1.  ,  0.  ,  2.  ],\n",
       "       [ 0.  ,  0.  ,  1.  , 14.15,  2.  ,  0.  ,  0.  ,  2.  ],\n",
       "       [ 0.  ,  1.  ,  0.  , 31.85,  3.18,  1.  ,  1.  ,  2.  ],\n",
       "       [ 0.  ,  0.  ,  1.  ,  8.52,  1.48,  1.  ,  0.  ,  2.  ],\n",
       "       [ 0.  ,  1.  ,  0.  , 17.46,  2.54,  1.  ,  0.  ,  2.  ],\n",
       "       [ 0.  ,  1.  ,  0.  , 14.83,  3.02,  0.  ,  0.  ,  2.  ],\n",
       "       [ 1.  ,  0.  ,  0.  , 12.69,  2.  ,  1.  ,  0.  ,  2.  ],\n",
       "       [ 0.  ,  1.  ,  0.  , 12.54,  2.5 ,  1.  ,  0.  ,  2.  ],\n",
       "       [ 0.  ,  0.  ,  0.  , 13.42,  3.48,  0.  ,  1.  ,  2.  ],\n",
       "       [ 1.  ,  0.  ,  0.  , 17.92,  4.08,  1.  ,  0.  ,  2.  ],\n",
       "       [ 0.  ,  1.  ,  0.  , 16.21,  2.  ,  0.  ,  0.  ,  3.  ],\n",
       "       [ 0.  ,  1.  ,  0.  , 22.23,  5.  ,  1.  ,  0.  ,  2.  ],\n",
       "       [ 0.  ,  1.  ,  0.  , 20.76,  2.24,  1.  ,  0.  ,  2.  ],\n",
       "       [ 1.  ,  0.  ,  0.  , 29.03,  5.92,  1.  ,  0.  ,  3.  ],\n",
       "       [ 0.  ,  1.  ,  0.  , 21.5 ,  3.5 ,  1.  ,  0.  ,  4.  ],\n",
       "       [ 1.  ,  0.  ,  0.  , 50.81, 10.  ,  1.  ,  1.  ,  3.  ],\n",
       "       [ 1.  ,  0.  ,  0.  , 11.02,  1.98,  1.  ,  1.  ,  2.  ],\n",
       "       [ 0.  ,  1.  ,  0.  , 15.69,  1.5 ,  1.  ,  1.  ,  2.  ],\n",
       "       [ 0.  ,  1.  ,  0.  , 16.49,  2.  ,  1.  ,  0.  ,  4.  ],\n",
       "       [ 0.  ,  1.  ,  0.  , 21.01,  3.5 ,  1.  ,  0.  ,  3.  ],\n",
       "       [ 1.  ,  0.  ,  0.  , 48.27,  6.73,  1.  ,  0.  ,  4.  ],\n",
       "       [ 0.  ,  0.  ,  1.  ,  7.51,  2.  ,  1.  ,  0.  ,  2.  ],\n",
       "       [ 1.  ,  0.  ,  0.  , 20.45,  3.  ,  1.  ,  0.  ,  4.  ],\n",
       "       [ 0.  ,  1.  ,  0.  ,  9.68,  1.32,  1.  ,  0.  ,  2.  ],\n",
       "       [ 0.  ,  0.  ,  1.  , 19.81,  4.19,  0.  ,  1.  ,  2.  ],\n",
       "       [ 0.  ,  0.  ,  1.  , 13.16,  2.75,  0.  ,  0.  ,  2.  ],\n",
       "       [ 0.  ,  1.  ,  0.  , 19.77,  2.  ,  1.  ,  0.  ,  4.  ],\n",
       "       [ 0.  ,  1.  ,  0.  , 38.07,  4.  ,  1.  ,  0.  ,  3.  ],\n",
       "       [ 1.  ,  0.  ,  0.  , 26.59,  3.41,  1.  ,  1.  ,  3.  ],\n",
       "       [ 0.  ,  0.  ,  0.  , 21.01,  3.  ,  1.  ,  1.  ,  2.  ],\n",
       "       [ 0.  ,  1.  ,  0.  , 24.55,  2.  ,  1.  ,  0.  ,  4.  ],\n",
       "       [ 0.  ,  0.  ,  0.  , 16.32,  4.3 ,  0.  ,  1.  ,  2.  ],\n",
       "       [ 0.  ,  0.  ,  1.  , 16.43,  2.3 ,  0.  ,  0.  ,  2.  ],\n",
       "       [ 1.  ,  0.  ,  0.  , 10.77,  1.47,  1.  ,  0.  ,  2.  ],\n",
       "       [ 0.  ,  1.  ,  0.  , 23.95,  2.55,  1.  ,  0.  ,  2.  ],\n",
       "       [ 0.  ,  1.  ,  0.  , 16.99,  1.01,  0.  ,  0.  ,  2.  ],\n",
       "       [ 0.  ,  0.  ,  0.  , 22.75,  3.25,  0.  ,  0.  ,  2.  ],\n",
       "       [ 0.  ,  0.  ,  0.  , 40.17,  4.73,  1.  ,  1.  ,  4.  ],\n",
       "       [ 1.  ,  0.  ,  0.  , 15.01,  2.09,  1.  ,  1.  ,  2.  ],\n",
       "       [ 0.  ,  1.  ,  0.  , 18.04,  3.  ,  1.  ,  0.  ,  2.  ],\n",
       "       [ 0.  ,  1.  ,  0.  , 28.55,  2.05,  1.  ,  0.  ,  3.  ],\n",
       "       [ 0.  ,  0.  ,  1.  , 34.83,  5.17,  0.  ,  0.  ,  4.  ],\n",
       "       [ 1.  ,  0.  ,  0.  , 22.67,  2.  ,  1.  ,  1.  ,  2.  ],\n",
       "       [ 0.  ,  0.  ,  1.  , 34.3 ,  6.7 ,  1.  ,  0.  ,  6.  ],\n",
       "       [ 1.  ,  0.  ,  0.  , 39.42,  7.58,  1.  ,  0.  ,  4.  ],\n",
       "       [ 1.  ,  0.  ,  0.  , 12.9 ,  1.1 ,  0.  ,  1.  ,  2.  ],\n",
       "       [ 0.  ,  0.  ,  1.  , 27.05,  5.  ,  0.  ,  0.  ,  6.  ],\n",
       "       [ 0.  ,  0.  ,  1.  , 22.76,  3.  ,  1.  ,  0.  ,  2.  ],\n",
       "       [ 0.  ,  0.  ,  0.  , 11.35,  2.5 ,  0.  ,  1.  ,  2.  ],\n",
       "       [ 0.  ,  0.  ,  1.  , 20.27,  2.83,  0.  ,  0.  ,  2.  ],\n",
       "       [ 0.  ,  0.  ,  1.  , 10.34,  2.  ,  1.  ,  1.  ,  2.  ],\n",
       "       [ 1.  ,  0.  ,  0.  , 17.82,  1.75,  1.  ,  0.  ,  2.  ],\n",
       "       [ 0.  ,  1.  ,  0.  ,  8.77,  2.  ,  1.  ,  0.  ,  2.  ],\n",
       "       [ 1.  ,  0.  ,  0.  , 20.23,  2.01,  1.  ,  0.  ,  2.  ],\n",
       "       [ 0.  ,  0.  ,  1.  , 15.98,  2.03,  1.  ,  0.  ,  2.  ],\n",
       "       [ 0.  ,  0.  ,  1.  , 13.42,  1.68,  0.  ,  0.  ,  2.  ],\n",
       "       [ 1.  ,  0.  ,  0.  , 13.28,  2.72,  1.  ,  0.  ,  2.  ],\n",
       "       [ 0.  ,  1.  ,  0.  , 40.55,  3.  ,  1.  ,  1.  ,  2.  ],\n",
       "       [ 1.  ,  0.  ,  0.  , 38.73,  3.  ,  1.  ,  1.  ,  4.  ],\n",
       "       [ 0.  ,  0.  ,  1.  , 13.  ,  2.  ,  0.  ,  1.  ,  2.  ],\n",
       "       [ 0.  ,  1.  ,  0.  , 20.9 ,  3.5 ,  0.  ,  1.  ,  3.  ],\n",
       "       [ 0.  ,  0.  ,  0.  , 22.49,  3.5 ,  1.  ,  0.  ,  2.  ],\n",
       "       [ 1.  ,  0.  ,  0.  , 13.27,  2.5 ,  0.  ,  1.  ,  2.  ],\n",
       "       [ 0.  ,  1.  ,  0.  , 35.26,  5.  ,  0.  ,  0.  ,  4.  ],\n",
       "       [ 0.  ,  0.  ,  1.  , 24.08,  2.92,  0.  ,  0.  ,  4.  ],\n",
       "       [ 1.  ,  0.  ,  0.  , 44.3 ,  2.5 ,  0.  ,  1.  ,  3.  ],\n",
       "       [ 1.  ,  0.  ,  0.  , 24.06,  3.6 ,  1.  ,  0.  ,  3.  ],\n",
       "       [ 1.  ,  0.  ,  0.  , 26.41,  1.5 ,  0.  ,  0.  ,  2.  ],\n",
       "       [ 1.  ,  0.  ,  0.  , 10.63,  2.  ,  0.  ,  1.  ,  2.  ],\n",
       "       [ 1.  ,  0.  ,  0.  , 20.08,  3.15,  1.  ,  0.  ,  3.  ],\n",
       "       [ 0.  ,  1.  ,  0.  , 10.34,  1.66,  1.  ,  0.  ,  3.  ],\n",
       "       [ 0.  ,  0.  ,  1.  , 11.69,  2.31,  1.  ,  0.  ,  2.  ],\n",
       "       [ 0.  ,  0.  ,  1.  , 16.58,  4.  ,  1.  ,  1.  ,  2.  ],\n",
       "       [ 0.  ,  1.  ,  0.  , 13.94,  3.06,  1.  ,  0.  ,  2.  ],\n",
       "       [ 1.  ,  0.  ,  0.  , 15.36,  1.64,  1.  ,  1.  ,  2.  ],\n",
       "       [ 0.  ,  0.  ,  1.  , 11.17,  1.5 ,  0.  ,  0.  ,  2.  ],\n",
       "       [ 1.  ,  0.  ,  0.  , 10.07,  1.25,  1.  ,  0.  ,  2.  ],\n",
       "       [ 0.  ,  1.  ,  0.  , 16.29,  3.71,  1.  ,  0.  ,  3.  ],\n",
       "       [ 1.  ,  0.  ,  0.  , 18.69,  2.31,  1.  ,  0.  ,  3.  ],\n",
       "       [ 0.  ,  0.  ,  1.  , 12.26,  2.  ,  0.  ,  0.  ,  2.  ],\n",
       "       [ 0.  ,  1.  ,  0.  ,  9.94,  1.56,  1.  ,  0.  ,  2.  ],\n",
       "       [ 0.  ,  1.  ,  0.  , 17.51,  3.  ,  0.  ,  1.  ,  2.  ],\n",
       "       [ 0.  ,  1.  ,  0.  , 30.46,  2.  ,  1.  ,  1.  ,  5.  ],\n",
       "       [ 0.  ,  0.  ,  1.  , 11.38,  2.  ,  0.  ,  0.  ,  2.  ],\n",
       "       [ 1.  ,  0.  ,  0.  , 17.78,  3.27,  1.  ,  0.  ,  2.  ],\n",
       "       [ 1.  ,  0.  ,  0.  , 21.7 ,  4.3 ,  1.  ,  0.  ,  2.  ],\n",
       "       [ 0.  ,  1.  ,  0.  , 23.17,  6.5 ,  1.  ,  1.  ,  4.  ],\n",
       "       [ 0.  ,  1.  ,  0.  , 25.71,  4.  ,  0.  ,  0.  ,  3.  ],\n",
       "       [ 0.  ,  1.  ,  0.  , 13.81,  2.  ,  1.  ,  0.  ,  2.  ],\n",
       "       [ 0.  ,  1.  ,  0.  , 13.13,  2.  ,  1.  ,  0.  ,  2.  ],\n",
       "       [ 1.  ,  0.  ,  0.  , 18.35,  2.5 ,  1.  ,  0.  ,  4.  ],\n",
       "       [ 0.  ,  0.  ,  1.  , 18.71,  4.  ,  1.  ,  1.  ,  3.  ],\n",
       "       [ 0.  ,  0.  ,  1.  , 14.52,  2.  ,  0.  ,  0.  ,  2.  ],\n",
       "       [ 0.  ,  1.  ,  0.  , 20.69,  5.  ,  1.  ,  0.  ,  5.  ],\n",
       "       [ 1.  ,  0.  ,  0.  , 24.01,  2.  ,  1.  ,  1.  ,  4.  ],\n",
       "       [ 0.  ,  0.  ,  0.  , 10.09,  2.  ,  0.  ,  1.  ,  2.  ],\n",
       "       [ 1.  ,  0.  ,  0.  , 15.06,  3.  ,  0.  ,  0.  ,  2.  ],\n",
       "       [ 0.  ,  1.  ,  0.  , 31.71,  4.5 ,  1.  ,  0.  ,  4.  ],\n",
       "       [ 0.  ,  0.  ,  1.  , 41.19,  5.  ,  1.  ,  0.  ,  5.  ],\n",
       "       [ 0.  ,  0.  ,  1.  , 20.53,  4.  ,  1.  ,  1.  ,  4.  ],\n",
       "       [ 0.  ,  0.  ,  1.  , 11.87,  1.63,  0.  ,  0.  ,  2.  ],\n",
       "       [ 1.  ,  0.  ,  0.  , 19.65,  3.  ,  0.  ,  0.  ,  2.  ],\n",
       "       [ 0.  ,  1.  ,  0.  , 14.48,  2.  ,  1.  ,  1.  ,  2.  ],\n",
       "       [ 0.  ,  0.  ,  0.  , 12.46,  1.5 ,  1.  ,  0.  ,  2.  ],\n",
       "       [ 0.  ,  0.  ,  1.  , 10.07,  1.83,  0.  ,  0.  ,  1.  ],\n",
       "       [ 1.  ,  0.  ,  0.  , 27.18,  2.  ,  0.  ,  1.  ,  2.  ],\n",
       "       [ 0.  ,  1.  ,  0.  , 32.9 ,  3.11,  1.  ,  1.  ,  2.  ],\n",
       "       [ 0.  ,  0.  ,  1.  , 17.29,  2.71,  1.  ,  0.  ,  2.  ],\n",
       "       [ 0.  ,  0.  ,  1.  , 43.11,  5.  ,  0.  ,  1.  ,  4.  ],\n",
       "       [ 1.  ,  0.  ,  0.  , 24.27,  2.03,  1.  ,  1.  ,  2.  ],\n",
       "       [ 0.  ,  1.  ,  0.  , 17.31,  3.5 ,  0.  ,  0.  ,  2.  ],\n",
       "       [ 0.  ,  0.  ,  1.  ,  9.78,  1.73,  1.  ,  0.  ,  2.  ],\n",
       "       [ 1.  ,  0.  ,  0.  , 12.6 ,  1.  ,  1.  ,  1.  ,  2.  ],\n",
       "       [ 1.  ,  0.  ,  0.  , 26.86,  3.14,  0.  ,  1.  ,  2.  ],\n",
       "       [ 0.  ,  0.  ,  1.  , 27.2 ,  4.  ,  1.  ,  0.  ,  4.  ],\n",
       "       [ 1.  ,  0.  ,  0.  , 17.81,  2.34,  1.  ,  0.  ,  4.  ],\n",
       "       [ 0.  ,  1.  ,  0.  , 24.52,  3.48,  1.  ,  0.  ,  3.  ],\n",
       "       [ 0.  ,  0.  ,  1.  , 16.66,  3.4 ,  1.  ,  0.  ,  2.  ],\n",
       "       [ 1.  ,  0.  ,  0.  , 22.12,  2.88,  0.  ,  1.  ,  2.  ],\n",
       "       [ 0.  ,  1.  ,  0.  , 16.82,  4.  ,  1.  ,  1.  ,  2.  ],\n",
       "       [ 1.  ,  0.  ,  0.  , 11.61,  3.39,  1.  ,  0.  ,  2.  ],\n",
       "       [ 1.  ,  0.  ,  0.  , 31.27,  5.  ,  1.  ,  0.  ,  3.  ],\n",
       "       [ 0.  ,  0.  ,  1.  , 15.48,  2.02,  1.  ,  1.  ,  2.  ],\n",
       "       [ 1.  ,  0.  ,  0.  , 11.24,  1.76,  1.  ,  1.  ,  2.  ],\n",
       "       [ 0.  ,  0.  ,  1.  , 17.47,  3.5 ,  0.  ,  0.  ,  2.  ],\n",
       "       [ 0.  ,  0.  ,  1.  , 24.71,  5.85,  1.  ,  0.  ,  2.  ],\n",
       "       [ 1.  ,  0.  ,  0.  , 28.15,  3.  ,  1.  ,  1.  ,  5.  ],\n",
       "       [ 1.  ,  0.  ,  0.  , 12.02,  1.97,  1.  ,  0.  ,  2.  ],\n",
       "       [ 0.  ,  0.  ,  1.  , 18.28,  4.  ,  1.  ,  0.  ,  2.  ],\n",
       "       [ 1.  ,  0.  ,  0.  , 16.31,  2.  ,  1.  ,  0.  ,  3.  ],\n",
       "       [ 1.  ,  0.  ,  0.  , 20.29,  2.75,  0.  ,  0.  ,  2.  ],\n",
       "       [ 1.  ,  0.  ,  0.  , 25.89,  5.16,  1.  ,  1.  ,  4.  ],\n",
       "       [ 0.  ,  1.  ,  0.  , 14.78,  3.23,  1.  ,  0.  ,  2.  ],\n",
       "       [ 1.  ,  0.  ,  0.  , 22.42,  3.48,  0.  ,  1.  ,  2.  ],\n",
       "       [ 0.  ,  0.  ,  1.  ,  7.56,  1.44,  1.  ,  0.  ,  2.  ],\n",
       "       [ 1.  ,  0.  ,  0.  ,  3.07,  1.  ,  0.  ,  1.  ,  1.  ],\n",
       "       [ 0.  ,  0.  ,  1.  , 28.44,  2.56,  1.  ,  1.  ,  2.  ],\n",
       "       [ 0.  ,  0.  ,  1.  , 10.65,  1.5 ,  0.  ,  0.  ,  2.  ],\n",
       "       [ 0.  ,  1.  ,  0.  , 32.4 ,  6.  ,  1.  ,  0.  ,  4.  ],\n",
       "       [ 0.  ,  1.  ,  0.  ,  7.25,  5.15,  1.  ,  1.  ,  2.  ]])"
      ]
     },
     "execution_count": 34,
     "metadata": {},
     "output_type": "execute_result"
    }
   ],
   "source": [
    "X_train"
   ]
  },
  {
   "cell_type": "code",
   "execution_count": 35,
   "id": "dd2a82c3-a1f7-4398-816e-e7a4796e72a7",
   "metadata": {},
   "outputs": [
    {
     "data": {
      "text/plain": [
       "array([0, 1, 0, 0, 0, 0, 0, 0, 0, 1, 0, 0, 0, 1, 0, 0, 0, 1, 0, 0, 0, 0,\n",
       "       0, 0, 0, 0, 1, 0, 0, 0, 1, 1, 0, 0, 0, 0, 0, 0, 0, 0, 0, 0, 0, 0,\n",
       "       0, 0, 1, 0, 0, 1, 0, 1, 1, 1, 1, 0, 1, 0, 1, 0, 0, 0, 0, 1, 0, 0,\n",
       "       0, 0, 0, 0, 0, 0, 0, 0, 0, 0, 1, 0, 0, 1, 1, 0, 0, 0, 0, 0, 0, 1,\n",
       "       0, 0, 0, 0, 0, 0, 0, 0, 1, 0, 1, 0, 0, 1, 1, 0, 1, 1, 0, 0, 0, 1,\n",
       "       1, 0, 0, 0, 1, 0, 0, 0, 0, 1, 0, 0, 0, 0, 0, 0, 1, 1, 0, 0, 1, 0,\n",
       "       0, 0, 1, 0, 0, 0, 1, 0, 0, 0, 0, 0, 0, 0, 1, 1, 0, 0, 1, 0, 0, 1,\n",
       "       1, 1, 0, 0, 0, 1, 0, 0, 1, 1, 0, 0, 1, 0, 0, 1, 0, 0, 1, 0, 0, 0,\n",
       "       0, 1, 0, 1, 1, 0, 0, 1, 0, 0, 0, 0, 0, 1, 0, 1, 1, 0, 0])"
      ]
     },
     "execution_count": 35,
     "metadata": {},
     "output_type": "execute_result"
    }
   ],
   "source": [
    "y_train"
   ]
  },
  {
   "cell_type": "code",
   "execution_count": 36,
   "id": "b561b6a6-cd01-41c5-94db-65f650abb749",
   "metadata": {},
   "outputs": [
    {
     "data": {
      "text/plain": [
       "array([0, 0, 0, 0, 1, 0, 0, 0, 0, 0, 0, 0, 0, 1, 1, 0, 1, 0, 0, 0, 0, 0,\n",
       "       1, 0, 1, 1, 1, 1, 0, 0, 0, 1, 0, 0, 0, 0, 0, 1, 0, 1, 1, 1, 0, 0,\n",
       "       0, 0, 0, 0, 0])"
      ]
     },
     "execution_count": 36,
     "metadata": {},
     "output_type": "execute_result"
    }
   ],
   "source": [
    "y_test"
   ]
  },
  {
   "cell_type": "markdown",
   "id": "e64270ed-66b9-44b7-9a2f-447429e2be1c",
   "metadata": {},
   "source": [
    "# GaussianNB Model "
   ]
  },
  {
   "cell_type": "code",
   "execution_count": 37,
   "id": "cab37410-8132-457c-8ccb-8b855887b17d",
   "metadata": {},
   "outputs": [],
   "source": [
    "from sklearn.naive_bayes import GaussianNB"
   ]
  },
  {
   "cell_type": "code",
   "execution_count": 38,
   "id": "38da643f-839e-45f8-8db1-289799ab468f",
   "metadata": {},
   "outputs": [],
   "source": [
    "gnb1 =GaussianNB()"
   ]
  },
  {
   "cell_type": "code",
   "execution_count": 39,
   "id": "f7539a50-65e5-46af-acac-0ec07d29795d",
   "metadata": {},
   "outputs": [
    {
     "data": {
      "text/html": [
       "<style>#sk-container-id-2 {color: black;background-color: white;}#sk-container-id-2 pre{padding: 0;}#sk-container-id-2 div.sk-toggleable {background-color: white;}#sk-container-id-2 label.sk-toggleable__label {cursor: pointer;display: block;width: 100%;margin-bottom: 0;padding: 0.3em;box-sizing: border-box;text-align: center;}#sk-container-id-2 label.sk-toggleable__label-arrow:before {content: \"▸\";float: left;margin-right: 0.25em;color: #696969;}#sk-container-id-2 label.sk-toggleable__label-arrow:hover:before {color: black;}#sk-container-id-2 div.sk-estimator:hover label.sk-toggleable__label-arrow:before {color: black;}#sk-container-id-2 div.sk-toggleable__content {max-height: 0;max-width: 0;overflow: hidden;text-align: left;background-color: #f0f8ff;}#sk-container-id-2 div.sk-toggleable__content pre {margin: 0.2em;color: black;border-radius: 0.25em;background-color: #f0f8ff;}#sk-container-id-2 input.sk-toggleable__control:checked~div.sk-toggleable__content {max-height: 200px;max-width: 100%;overflow: auto;}#sk-container-id-2 input.sk-toggleable__control:checked~label.sk-toggleable__label-arrow:before {content: \"▾\";}#sk-container-id-2 div.sk-estimator input.sk-toggleable__control:checked~label.sk-toggleable__label {background-color: #d4ebff;}#sk-container-id-2 div.sk-label input.sk-toggleable__control:checked~label.sk-toggleable__label {background-color: #d4ebff;}#sk-container-id-2 input.sk-hidden--visually {border: 0;clip: rect(1px 1px 1px 1px);clip: rect(1px, 1px, 1px, 1px);height: 1px;margin: -1px;overflow: hidden;padding: 0;position: absolute;width: 1px;}#sk-container-id-2 div.sk-estimator {font-family: monospace;background-color: #f0f8ff;border: 1px dotted black;border-radius: 0.25em;box-sizing: border-box;margin-bottom: 0.5em;}#sk-container-id-2 div.sk-estimator:hover {background-color: #d4ebff;}#sk-container-id-2 div.sk-parallel-item::after {content: \"\";width: 100%;border-bottom: 1px solid gray;flex-grow: 1;}#sk-container-id-2 div.sk-label:hover label.sk-toggleable__label {background-color: #d4ebff;}#sk-container-id-2 div.sk-serial::before {content: \"\";position: absolute;border-left: 1px solid gray;box-sizing: border-box;top: 0;bottom: 0;left: 50%;z-index: 0;}#sk-container-id-2 div.sk-serial {display: flex;flex-direction: column;align-items: center;background-color: white;padding-right: 0.2em;padding-left: 0.2em;position: relative;}#sk-container-id-2 div.sk-item {position: relative;z-index: 1;}#sk-container-id-2 div.sk-parallel {display: flex;align-items: stretch;justify-content: center;background-color: white;position: relative;}#sk-container-id-2 div.sk-item::before, #sk-container-id-2 div.sk-parallel-item::before {content: \"\";position: absolute;border-left: 1px solid gray;box-sizing: border-box;top: 0;bottom: 0;left: 50%;z-index: -1;}#sk-container-id-2 div.sk-parallel-item {display: flex;flex-direction: column;z-index: 1;position: relative;background-color: white;}#sk-container-id-2 div.sk-parallel-item:first-child::after {align-self: flex-end;width: 50%;}#sk-container-id-2 div.sk-parallel-item:last-child::after {align-self: flex-start;width: 50%;}#sk-container-id-2 div.sk-parallel-item:only-child::after {width: 0;}#sk-container-id-2 div.sk-dashed-wrapped {border: 1px dashed gray;margin: 0 0.4em 0.5em 0.4em;box-sizing: border-box;padding-bottom: 0.4em;background-color: white;}#sk-container-id-2 div.sk-label label {font-family: monospace;font-weight: bold;display: inline-block;line-height: 1.2em;}#sk-container-id-2 div.sk-label-container {text-align: center;}#sk-container-id-2 div.sk-container {/* jupyter's `normalize.less` sets `[hidden] { display: none; }` but bootstrap.min.css set `[hidden] { display: none !important; }` so we also need the `!important` here to be able to override the default hidden behavior on the sphinx rendered scikit-learn.org. See: https://github.com/scikit-learn/scikit-learn/issues/21755 */display: inline-block !important;position: relative;}#sk-container-id-2 div.sk-text-repr-fallback {display: none;}</style><div id=\"sk-container-id-2\" class=\"sk-top-container\"><div class=\"sk-text-repr-fallback\"><pre>GaussianNB()</pre><b>In a Jupyter environment, please rerun this cell to show the HTML representation or trust the notebook. <br />On GitHub, the HTML representation is unable to render, please try loading this page with nbviewer.org.</b></div><div class=\"sk-container\" hidden><div class=\"sk-item\"><div class=\"sk-estimator sk-toggleable\"><input class=\"sk-toggleable__control sk-hidden--visually\" id=\"sk-estimator-id-2\" type=\"checkbox\" checked><label for=\"sk-estimator-id-2\" class=\"sk-toggleable__label sk-toggleable__label-arrow\">GaussianNB</label><div class=\"sk-toggleable__content\"><pre>GaussianNB()</pre></div></div></div></div></div>"
      ],
      "text/plain": [
       "GaussianNB()"
      ]
     },
     "execution_count": 39,
     "metadata": {},
     "output_type": "execute_result"
    }
   ],
   "source": [
    "gnb1.fit(X_train,y_train)"
   ]
  },
  {
   "cell_type": "code",
   "execution_count": 40,
   "id": "46ff9241-727d-494c-b105-0efbab8d0b34",
   "metadata": {},
   "outputs": [],
   "source": [
    "y_pred1 = gnb1.predict(X_test)"
   ]
  },
  {
   "cell_type": "code",
   "execution_count": 41,
   "id": "8c675c9e-212a-4389-b21f-22299a966dd2",
   "metadata": {},
   "outputs": [],
   "source": [
    "from sklearn.metrics import accuracy_score,classification_report ,confusion_matrix"
   ]
  },
  {
   "cell_type": "code",
   "execution_count": 42,
   "id": "0f4b92a2-a76c-4f1a-9d0f-5d16979ff3e1",
   "metadata": {},
   "outputs": [
    {
     "name": "stdout",
     "output_type": "stream",
     "text": [
      "[[34  5]\n",
      " [ 1  9]]\n",
      "0.8775510204081632\n",
      "              precision    recall  f1-score   support\n",
      "\n",
      "           0       0.97      0.87      0.92        39\n",
      "           1       0.64      0.90      0.75        10\n",
      "\n",
      "    accuracy                           0.88        49\n",
      "   macro avg       0.81      0.89      0.83        49\n",
      "weighted avg       0.90      0.88      0.88        49\n",
      "\n"
     ]
    }
   ],
   "source": [
    "print(confusion_matrix(y_pred1,y_test))\n",
    "print(accuracy_score(y_pred1,y_test))\n",
    "print(classification_report(y_pred1,y_test))"
   ]
  },
  {
   "cell_type": "code",
   "execution_count": null,
   "id": "73975e8d-5da6-400e-8600-4ad4229ead52",
   "metadata": {},
   "outputs": [],
   "source": []
  }
 ],
 "metadata": {
  "kernelspec": {
   "display_name": "Python 3 (ipykernel)",
   "language": "python",
   "name": "python3"
  },
  "language_info": {
   "codemirror_mode": {
    "name": "ipython",
    "version": 3
   },
   "file_extension": ".py",
   "mimetype": "text/x-python",
   "name": "python",
   "nbconvert_exporter": "python",
   "pygments_lexer": "ipython3",
   "version": "3.11.7"
  }
 },
 "nbformat": 4,
 "nbformat_minor": 5
}
