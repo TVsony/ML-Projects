{
 "cells": [
  {
   "cell_type": "code",
   "execution_count": 1,
   "id": "502edd0f-5dd5-46cb-9ede-cbaac88631ee",
   "metadata": {},
   "outputs": [],
   "source": [
    "import pandas as pd \n",
    "import numpy as np\n",
    "import matplotlib.pyplot as plt\n",
    "%matplotlib inline \n",
    "import seaborn as sns\n",
    "import warnings\n",
    "warnings.filterwarnings('ignore')"
   ]
  },
  {
   "cell_type": "code",
   "execution_count": 2,
   "id": "2263e555-b71f-4af5-aab9-77ad32f4731b",
   "metadata": {},
   "outputs": [],
   "source": [
    "df = pd.read_csv(\"cardekho_dataset.csv\", index_col=0)"
   ]
  },
  {
   "cell_type": "code",
   "execution_count": 3,
   "id": "3414f2b5-ec0f-404d-9e77-5f1f855bd0aa",
   "metadata": {},
   "outputs": [
    {
     "data": {
      "text/html": [
       "<div>\n",
       "<style scoped>\n",
       "    .dataframe tbody tr th:only-of-type {\n",
       "        vertical-align: middle;\n",
       "    }\n",
       "\n",
       "    .dataframe tbody tr th {\n",
       "        vertical-align: top;\n",
       "    }\n",
       "\n",
       "    .dataframe thead th {\n",
       "        text-align: right;\n",
       "    }\n",
       "</style>\n",
       "<table border=\"1\" class=\"dataframe\">\n",
       "  <thead>\n",
       "    <tr style=\"text-align: right;\">\n",
       "      <th></th>\n",
       "      <th>car_name</th>\n",
       "      <th>brand</th>\n",
       "      <th>model</th>\n",
       "      <th>vehicle_age</th>\n",
       "      <th>km_driven</th>\n",
       "      <th>seller_type</th>\n",
       "      <th>fuel_type</th>\n",
       "      <th>transmission_type</th>\n",
       "      <th>mileage</th>\n",
       "      <th>engine</th>\n",
       "      <th>max_power</th>\n",
       "      <th>seats</th>\n",
       "      <th>selling_price</th>\n",
       "    </tr>\n",
       "    <tr>\n",
       "      <th>SR.no</th>\n",
       "      <th></th>\n",
       "      <th></th>\n",
       "      <th></th>\n",
       "      <th></th>\n",
       "      <th></th>\n",
       "      <th></th>\n",
       "      <th></th>\n",
       "      <th></th>\n",
       "      <th></th>\n",
       "      <th></th>\n",
       "      <th></th>\n",
       "      <th></th>\n",
       "      <th></th>\n",
       "    </tr>\n",
       "  </thead>\n",
       "  <tbody>\n",
       "    <tr>\n",
       "      <th>0</th>\n",
       "      <td>Maruti Alto</td>\n",
       "      <td>Maruti</td>\n",
       "      <td>Alto</td>\n",
       "      <td>9</td>\n",
       "      <td>120000</td>\n",
       "      <td>Individual</td>\n",
       "      <td>Petrol</td>\n",
       "      <td>Manual</td>\n",
       "      <td>19.70</td>\n",
       "      <td>796</td>\n",
       "      <td>46.30</td>\n",
       "      <td>5</td>\n",
       "      <td>120000</td>\n",
       "    </tr>\n",
       "    <tr>\n",
       "      <th>1</th>\n",
       "      <td>Hyundai Grand</td>\n",
       "      <td>Hyundai</td>\n",
       "      <td>Grand</td>\n",
       "      <td>5</td>\n",
       "      <td>20000</td>\n",
       "      <td>Individual</td>\n",
       "      <td>Petrol</td>\n",
       "      <td>Manual</td>\n",
       "      <td>18.90</td>\n",
       "      <td>1197</td>\n",
       "      <td>82.00</td>\n",
       "      <td>5</td>\n",
       "      <td>550000</td>\n",
       "    </tr>\n",
       "    <tr>\n",
       "      <th>2</th>\n",
       "      <td>Hyundai i20</td>\n",
       "      <td>Hyundai</td>\n",
       "      <td>i20</td>\n",
       "      <td>11</td>\n",
       "      <td>60000</td>\n",
       "      <td>Individual</td>\n",
       "      <td>Petrol</td>\n",
       "      <td>Manual</td>\n",
       "      <td>17.00</td>\n",
       "      <td>1197</td>\n",
       "      <td>80.00</td>\n",
       "      <td>5</td>\n",
       "      <td>215000</td>\n",
       "    </tr>\n",
       "    <tr>\n",
       "      <th>3</th>\n",
       "      <td>Maruti Alto</td>\n",
       "      <td>Maruti</td>\n",
       "      <td>Alto</td>\n",
       "      <td>9</td>\n",
       "      <td>37000</td>\n",
       "      <td>Individual</td>\n",
       "      <td>Petrol</td>\n",
       "      <td>Manual</td>\n",
       "      <td>20.92</td>\n",
       "      <td>998</td>\n",
       "      <td>67.10</td>\n",
       "      <td>5</td>\n",
       "      <td>226000</td>\n",
       "    </tr>\n",
       "    <tr>\n",
       "      <th>4</th>\n",
       "      <td>Ford Ecosport</td>\n",
       "      <td>Ford</td>\n",
       "      <td>Ecosport</td>\n",
       "      <td>6</td>\n",
       "      <td>30000</td>\n",
       "      <td>Dealer</td>\n",
       "      <td>Diesel</td>\n",
       "      <td>Manual</td>\n",
       "      <td>22.77</td>\n",
       "      <td>1498</td>\n",
       "      <td>98.59</td>\n",
       "      <td>5</td>\n",
       "      <td>570000</td>\n",
       "    </tr>\n",
       "  </tbody>\n",
       "</table>\n",
       "</div>"
      ],
      "text/plain": [
       "             car_name    brand     model  vehicle_age  km_driven seller_type  \\\n",
       "SR.no                                                                          \n",
       "0         Maruti Alto   Maruti      Alto            9     120000  Individual   \n",
       "1       Hyundai Grand  Hyundai     Grand            5      20000  Individual   \n",
       "2         Hyundai i20  Hyundai       i20           11      60000  Individual   \n",
       "3         Maruti Alto   Maruti      Alto            9      37000  Individual   \n",
       "4       Ford Ecosport     Ford  Ecosport            6      30000      Dealer   \n",
       "\n",
       "       fuel_type transmission_type  mileage  engine  max_power  seats  \\\n",
       "SR.no                                                                   \n",
       "0         Petrol            Manual    19.70     796      46.30      5   \n",
       "1         Petrol            Manual    18.90    1197      82.00      5   \n",
       "2         Petrol            Manual    17.00    1197      80.00      5   \n",
       "3         Petrol            Manual    20.92     998      67.10      5   \n",
       "4         Diesel            Manual    22.77    1498      98.59      5   \n",
       "\n",
       "        selling_price  \n",
       "SR.no                  \n",
       "0              120000  \n",
       "1              550000  \n",
       "2              215000  \n",
       "3              226000  \n",
       "4              570000  "
      ]
     },
     "execution_count": 3,
     "metadata": {},
     "output_type": "execute_result"
    }
   ],
   "source": [
    "df.head()"
   ]
  },
  {
   "cell_type": "markdown",
   "id": "d11157cf-a9fc-48f8-895e-b507b03c5b50",
   "metadata": {},
   "source": [
    "# Data cleaning \n",
    "**Handling Missing Values**\n",
    "- Handling Duplicates\n",
    "- Check data type\n",
    "- Understand the Dataset"
   ]
  },
  {
   "cell_type": "code",
   "execution_count": 4,
   "id": "20c7630d-2fba-4aa1-a8ab-9d518ed76c23",
   "metadata": {},
   "outputs": [
    {
     "data": {
      "text/plain": [
       "car_name             0\n",
       "brand                0\n",
       "model                0\n",
       "vehicle_age          0\n",
       "km_driven            0\n",
       "seller_type          0\n",
       "fuel_type            0\n",
       "transmission_type    0\n",
       "mileage              0\n",
       "engine               0\n",
       "max_power            0\n",
       "seats                0\n",
       "selling_price        0\n",
       "dtype: int64"
      ]
     },
     "execution_count": 4,
     "metadata": {},
     "output_type": "execute_result"
    }
   ],
   "source": [
    "# check null values\n",
    "df.isnull().sum()"
   ]
  },
  {
   "cell_type": "code",
   "execution_count": 5,
   "id": "49307ae9-b977-4bd3-9256-e84feb167111",
   "metadata": {},
   "outputs": [],
   "source": [
    "df.drop('car_name',axis=1,inplace=True)\n",
    "df.drop('brand', axis=1, inplace=True)"
   ]
  },
  {
   "cell_type": "code",
   "execution_count": 6,
   "id": "7abf2f79-ef9f-46ab-8ac1-d74d8817eb07",
   "metadata": {},
   "outputs": [
    {
     "name": "stdout",
     "output_type": "stream",
     "text": [
      "<class 'pandas.core.frame.DataFrame'>\n",
      "Index: 15411 entries, 0 to 19543\n",
      "Data columns (total 11 columns):\n",
      " #   Column             Non-Null Count  Dtype  \n",
      "---  ------             --------------  -----  \n",
      " 0   model              15411 non-null  object \n",
      " 1   vehicle_age        15411 non-null  int64  \n",
      " 2   km_driven          15411 non-null  int64  \n",
      " 3   seller_type        15411 non-null  object \n",
      " 4   fuel_type          15411 non-null  object \n",
      " 5   transmission_type  15411 non-null  object \n",
      " 6   mileage            15411 non-null  float64\n",
      " 7   engine             15411 non-null  int64  \n",
      " 8   max_power          15411 non-null  float64\n",
      " 9   seats              15411 non-null  int64  \n",
      " 10  selling_price      15411 non-null  int64  \n",
      "dtypes: float64(2), int64(5), object(4)\n",
      "memory usage: 1.4+ MB\n"
     ]
    }
   ],
   "source": [
    "df.info()"
   ]
  },
  {
   "cell_type": "code",
   "execution_count": 7,
   "id": "a85ba0e4-f19b-4d0e-9af6-1070e1e8e0a2",
   "metadata": {},
   "outputs": [
    {
     "data": {
      "text/plain": [
       "array(['Alto', 'Grand', 'i20', 'Ecosport', 'Wagon R', 'i10', 'Venue',\n",
       "       'Swift', 'Verna', 'Duster', 'Cooper', 'Ciaz', 'C-Class', 'Innova',\n",
       "       'Baleno', 'Swift Dzire', 'Vento', 'Creta', 'City', 'Bolero',\n",
       "       'Fortuner', 'KWID', 'Amaze', 'Santro', 'XUV500', 'KUV100', 'Ignis',\n",
       "       'RediGO', 'Scorpio', 'Marazzo', 'Aspire', 'Figo', 'Vitara',\n",
       "       'Tiago', 'Polo', 'Seltos', 'Celerio', 'GO', '5', 'CR-V',\n",
       "       'Endeavour', 'KUV', 'Jazz', '3', 'A4', 'Tigor', 'Ertiga', 'Safari',\n",
       "       'Thar', 'Hexa', 'Rover', 'Eeco', 'A6', 'E-Class', 'Q7', 'Z4', '6',\n",
       "       'XF', 'X5', 'Hector', 'Civic', 'D-Max', 'Cayenne', 'X1', 'Rapid',\n",
       "       'Freestyle', 'Superb', 'Nexon', 'XUV300', 'Dzire VXI', 'S90',\n",
       "       'WR-V', 'XL6', 'Triber', 'ES', 'Wrangler', 'Camry', 'Elantra',\n",
       "       'Yaris', 'GL-Class', '7', 'S-Presso', 'Dzire LXI', 'Aura', 'XC',\n",
       "       'Ghibli', 'Continental', 'CR', 'Kicks', 'S-Class', 'Tucson',\n",
       "       'Harrier', 'X3', 'Octavia', 'Compass', 'CLS', 'redi-GO', 'Glanza',\n",
       "       'Macan', 'X4', 'Dzire ZXI', 'XC90', 'F-PACE', 'A8', 'MUX',\n",
       "       'GTC4Lusso', 'GLS', 'X-Trail', 'XE', 'XC60', 'Panamera', 'Alturas',\n",
       "       'Altroz', 'NX', 'Carnival', 'C', 'RX', 'Ghost', 'Quattroporte',\n",
       "       'Gurkha'], dtype=object)"
      ]
     },
     "execution_count": 7,
     "metadata": {},
     "output_type": "execute_result"
    }
   ],
   "source": [
    "df['model'].unique()"
   ]
  },
  {
   "cell_type": "markdown",
   "id": "42142089-7a8d-4cbf-8e04-140c0469c724",
   "metadata": {},
   "source": [
    "### Getting all Different type of Features"
   ]
  },
  {
   "cell_type": "code",
   "execution_count": 8,
   "id": "de2e1a45-de32-43a6-825b-e5beab59fdc0",
   "metadata": {},
   "outputs": [
    {
     "name": "stdout",
     "output_type": "stream",
     "text": [
      "Numerical Feature: 7\n"
     ]
    }
   ],
   "source": [
    "num_features = [feature for feature in df.columns if df[feature].dtype !='O']\n",
    "print(\"Numerical Feature:\",len(num_features))"
   ]
  },
  {
   "cell_type": "code",
   "execution_count": 9,
   "id": "a2b4490e-fed2-4907-bba4-4f7cabc0ce9a",
   "metadata": {},
   "outputs": [
    {
     "name": "stdout",
     "output_type": "stream",
     "text": [
      "Categorical Feature: 4\n"
     ]
    }
   ],
   "source": [
    "cat_features = [feature for feature in df.columns if df[feature].dtype =='O']\n",
    "print(\"Categorical Feature:\",len(cat_features))"
   ]
  },
  {
   "cell_type": "code",
   "execution_count": 10,
   "id": "e1ce8675-6159-497b-89a1-3f921992c2e6",
   "metadata": {},
   "outputs": [
    {
     "name": "stdout",
     "output_type": "stream",
     "text": [
      "Descrete Features: 2\n"
     ]
    }
   ],
   "source": [
    "descrete_features=[ feature for feature in num_features if len(df[feature].unique())<=25]\n",
    "print(\"Descrete Features:\",len(descrete_features))"
   ]
  },
  {
   "cell_type": "code",
   "execution_count": 11,
   "id": "edbbd852-be1a-4c7b-80d0-c8d79b95694a",
   "metadata": {},
   "outputs": [
    {
     "name": "stdout",
     "output_type": "stream",
     "text": [
      "continous features: 5\n"
     ]
    }
   ],
   "source": [
    "continious_features = [feature for feature in num_features if feature not in descrete_features]\n",
    "print(\"continous features:\",len(continious_features))"
   ]
  },
  {
   "cell_type": "code",
   "execution_count": 12,
   "id": "8851ac13-a6a6-4421-ba9d-7409744c6dc3",
   "metadata": {},
   "outputs": [],
   "source": [
    "## Divide data into independent & Dependent feature \n",
    "from sklearn.model_selection import train_test_split\n",
    "X = df.drop(['selling_price'], axis=1)\n",
    "y = df['selling_price']"
   ]
  },
  {
   "cell_type": "code",
   "execution_count": 13,
   "id": "1cc9cea8-bdb7-4596-836a-113f08ab42ce",
   "metadata": {},
   "outputs": [
    {
     "data": {
      "text/html": [
       "<div>\n",
       "<style scoped>\n",
       "    .dataframe tbody tr th:only-of-type {\n",
       "        vertical-align: middle;\n",
       "    }\n",
       "\n",
       "    .dataframe tbody tr th {\n",
       "        vertical-align: top;\n",
       "    }\n",
       "\n",
       "    .dataframe thead th {\n",
       "        text-align: right;\n",
       "    }\n",
       "</style>\n",
       "<table border=\"1\" class=\"dataframe\">\n",
       "  <thead>\n",
       "    <tr style=\"text-align: right;\">\n",
       "      <th></th>\n",
       "      <th>model</th>\n",
       "      <th>vehicle_age</th>\n",
       "      <th>km_driven</th>\n",
       "      <th>seller_type</th>\n",
       "      <th>fuel_type</th>\n",
       "      <th>transmission_type</th>\n",
       "      <th>mileage</th>\n",
       "      <th>engine</th>\n",
       "      <th>max_power</th>\n",
       "      <th>seats</th>\n",
       "    </tr>\n",
       "    <tr>\n",
       "      <th>SR.no</th>\n",
       "      <th></th>\n",
       "      <th></th>\n",
       "      <th></th>\n",
       "      <th></th>\n",
       "      <th></th>\n",
       "      <th></th>\n",
       "      <th></th>\n",
       "      <th></th>\n",
       "      <th></th>\n",
       "      <th></th>\n",
       "    </tr>\n",
       "  </thead>\n",
       "  <tbody>\n",
       "    <tr>\n",
       "      <th>0</th>\n",
       "      <td>Alto</td>\n",
       "      <td>9</td>\n",
       "      <td>120000</td>\n",
       "      <td>Individual</td>\n",
       "      <td>Petrol</td>\n",
       "      <td>Manual</td>\n",
       "      <td>19.70</td>\n",
       "      <td>796</td>\n",
       "      <td>46.30</td>\n",
       "      <td>5</td>\n",
       "    </tr>\n",
       "    <tr>\n",
       "      <th>1</th>\n",
       "      <td>Grand</td>\n",
       "      <td>5</td>\n",
       "      <td>20000</td>\n",
       "      <td>Individual</td>\n",
       "      <td>Petrol</td>\n",
       "      <td>Manual</td>\n",
       "      <td>18.90</td>\n",
       "      <td>1197</td>\n",
       "      <td>82.00</td>\n",
       "      <td>5</td>\n",
       "    </tr>\n",
       "    <tr>\n",
       "      <th>2</th>\n",
       "      <td>i20</td>\n",
       "      <td>11</td>\n",
       "      <td>60000</td>\n",
       "      <td>Individual</td>\n",
       "      <td>Petrol</td>\n",
       "      <td>Manual</td>\n",
       "      <td>17.00</td>\n",
       "      <td>1197</td>\n",
       "      <td>80.00</td>\n",
       "      <td>5</td>\n",
       "    </tr>\n",
       "    <tr>\n",
       "      <th>3</th>\n",
       "      <td>Alto</td>\n",
       "      <td>9</td>\n",
       "      <td>37000</td>\n",
       "      <td>Individual</td>\n",
       "      <td>Petrol</td>\n",
       "      <td>Manual</td>\n",
       "      <td>20.92</td>\n",
       "      <td>998</td>\n",
       "      <td>67.10</td>\n",
       "      <td>5</td>\n",
       "    </tr>\n",
       "    <tr>\n",
       "      <th>4</th>\n",
       "      <td>Ecosport</td>\n",
       "      <td>6</td>\n",
       "      <td>30000</td>\n",
       "      <td>Dealer</td>\n",
       "      <td>Diesel</td>\n",
       "      <td>Manual</td>\n",
       "      <td>22.77</td>\n",
       "      <td>1498</td>\n",
       "      <td>98.59</td>\n",
       "      <td>5</td>\n",
       "    </tr>\n",
       "  </tbody>\n",
       "</table>\n",
       "</div>"
      ],
      "text/plain": [
       "           model  vehicle_age  km_driven seller_type fuel_type  \\\n",
       "SR.no                                                            \n",
       "0           Alto            9     120000  Individual    Petrol   \n",
       "1          Grand            5      20000  Individual    Petrol   \n",
       "2            i20           11      60000  Individual    Petrol   \n",
       "3           Alto            9      37000  Individual    Petrol   \n",
       "4       Ecosport            6      30000      Dealer    Diesel   \n",
       "\n",
       "       transmission_type  mileage  engine  max_power  seats  \n",
       "SR.no                                                        \n",
       "0                 Manual    19.70     796      46.30      5  \n",
       "1                 Manual    18.90    1197      82.00      5  \n",
       "2                 Manual    17.00    1197      80.00      5  \n",
       "3                 Manual    20.92     998      67.10      5  \n",
       "4                 Manual    22.77    1498      98.59      5  "
      ]
     },
     "execution_count": 13,
     "metadata": {},
     "output_type": "execute_result"
    }
   ],
   "source": [
    "X.head()"
   ]
  },
  {
   "cell_type": "code",
   "execution_count": 14,
   "id": "ecbcc03f-abb5-4f79-ab56-477ad01bb456",
   "metadata": {},
   "outputs": [
    {
     "data": {
      "text/plain": [
       "array(['Alto', 'Grand', 'i20', 'Ecosport', 'Wagon R', 'i10', 'Venue',\n",
       "       'Swift', 'Verna', 'Duster', 'Cooper', 'Ciaz', 'C-Class', 'Innova',\n",
       "       'Baleno', 'Swift Dzire', 'Vento', 'Creta', 'City', 'Bolero',\n",
       "       'Fortuner', 'KWID', 'Amaze', 'Santro', 'XUV500', 'KUV100', 'Ignis',\n",
       "       'RediGO', 'Scorpio', 'Marazzo', 'Aspire', 'Figo', 'Vitara',\n",
       "       'Tiago', 'Polo', 'Seltos', 'Celerio', 'GO', '5', 'CR-V',\n",
       "       'Endeavour', 'KUV', 'Jazz', '3', 'A4', 'Tigor', 'Ertiga', 'Safari',\n",
       "       'Thar', 'Hexa', 'Rover', 'Eeco', 'A6', 'E-Class', 'Q7', 'Z4', '6',\n",
       "       'XF', 'X5', 'Hector', 'Civic', 'D-Max', 'Cayenne', 'X1', 'Rapid',\n",
       "       'Freestyle', 'Superb', 'Nexon', 'XUV300', 'Dzire VXI', 'S90',\n",
       "       'WR-V', 'XL6', 'Triber', 'ES', 'Wrangler', 'Camry', 'Elantra',\n",
       "       'Yaris', 'GL-Class', '7', 'S-Presso', 'Dzire LXI', 'Aura', 'XC',\n",
       "       'Ghibli', 'Continental', 'CR', 'Kicks', 'S-Class', 'Tucson',\n",
       "       'Harrier', 'X3', 'Octavia', 'Compass', 'CLS', 'redi-GO', 'Glanza',\n",
       "       'Macan', 'X4', 'Dzire ZXI', 'XC90', 'F-PACE', 'A8', 'MUX',\n",
       "       'GTC4Lusso', 'GLS', 'X-Trail', 'XE', 'XC60', 'Panamera', 'Alturas',\n",
       "       'Altroz', 'NX', 'Carnival', 'C', 'RX', 'Ghost', 'Quattroporte',\n",
       "       'Gurkha'], dtype=object)"
      ]
     },
     "execution_count": 14,
     "metadata": {},
     "output_type": "execute_result"
    }
   ],
   "source": [
    "df['model'].unique()"
   ]
  },
  {
   "cell_type": "code",
   "execution_count": 15,
   "id": "00086da6-155b-4552-ba23-1313320ff227",
   "metadata": {},
   "outputs": [
    {
     "data": {
      "text/plain": [
       "120"
      ]
     },
     "execution_count": 15,
     "metadata": {},
     "output_type": "execute_result"
    }
   ],
   "source": [
    "len(df['model'].unique())"
   ]
  },
  {
   "cell_type": "code",
   "execution_count": 16,
   "id": "7fd5b735-e493-4a1d-9aa5-4883b5a6a2b7",
   "metadata": {},
   "outputs": [
    {
     "data": {
      "text/plain": [
       "model\n",
       "i20            906\n",
       "Swift Dzire    890\n",
       "Swift          781\n",
       "Alto           778\n",
       "City           757\n",
       "              ... \n",
       "Ghibli           1\n",
       "Altroz           1\n",
       "GTC4Lusso        1\n",
       "Aura             1\n",
       "Gurkha           1\n",
       "Name: count, Length: 120, dtype: int64"
      ]
     },
     "execution_count": 16,
     "metadata": {},
     "output_type": "execute_result"
    }
   ],
   "source": [
    "df['model'].value_counts()"
   ]
  },
  {
   "cell_type": "code",
   "execution_count": 17,
   "id": "54155ac9-d805-49ca-9f71-70215a8a533b",
   "metadata": {},
   "outputs": [],
   "source": [
    "from sklearn.preprocessing import LabelEncoder\n",
    "le=LabelEncoder()\n",
    "X['model']=le.fit_transform(X['model'])"
   ]
  },
  {
   "cell_type": "code",
   "execution_count": 18,
   "id": "ca61bd45-4cfb-49fb-8ad9-0eca36816958",
   "metadata": {},
   "outputs": [
    {
     "data": {
      "text/html": [
       "<div>\n",
       "<style scoped>\n",
       "    .dataframe tbody tr th:only-of-type {\n",
       "        vertical-align: middle;\n",
       "    }\n",
       "\n",
       "    .dataframe tbody tr th {\n",
       "        vertical-align: top;\n",
       "    }\n",
       "\n",
       "    .dataframe thead th {\n",
       "        text-align: right;\n",
       "    }\n",
       "</style>\n",
       "<table border=\"1\" class=\"dataframe\">\n",
       "  <thead>\n",
       "    <tr style=\"text-align: right;\">\n",
       "      <th></th>\n",
       "      <th>model</th>\n",
       "      <th>vehicle_age</th>\n",
       "      <th>km_driven</th>\n",
       "      <th>seller_type</th>\n",
       "      <th>fuel_type</th>\n",
       "      <th>transmission_type</th>\n",
       "      <th>mileage</th>\n",
       "      <th>engine</th>\n",
       "      <th>max_power</th>\n",
       "      <th>seats</th>\n",
       "    </tr>\n",
       "    <tr>\n",
       "      <th>SR.no</th>\n",
       "      <th></th>\n",
       "      <th></th>\n",
       "      <th></th>\n",
       "      <th></th>\n",
       "      <th></th>\n",
       "      <th></th>\n",
       "      <th></th>\n",
       "      <th></th>\n",
       "      <th></th>\n",
       "      <th></th>\n",
       "    </tr>\n",
       "  </thead>\n",
       "  <tbody>\n",
       "    <tr>\n",
       "      <th>0</th>\n",
       "      <td>7</td>\n",
       "      <td>9</td>\n",
       "      <td>120000</td>\n",
       "      <td>Individual</td>\n",
       "      <td>Petrol</td>\n",
       "      <td>Manual</td>\n",
       "      <td>19.70</td>\n",
       "      <td>796</td>\n",
       "      <td>46.30</td>\n",
       "      <td>5</td>\n",
       "    </tr>\n",
       "    <tr>\n",
       "      <th>1</th>\n",
       "      <td>54</td>\n",
       "      <td>5</td>\n",
       "      <td>20000</td>\n",
       "      <td>Individual</td>\n",
       "      <td>Petrol</td>\n",
       "      <td>Manual</td>\n",
       "      <td>18.90</td>\n",
       "      <td>1197</td>\n",
       "      <td>82.00</td>\n",
       "      <td>5</td>\n",
       "    </tr>\n",
       "    <tr>\n",
       "      <th>2</th>\n",
       "      <td>118</td>\n",
       "      <td>11</td>\n",
       "      <td>60000</td>\n",
       "      <td>Individual</td>\n",
       "      <td>Petrol</td>\n",
       "      <td>Manual</td>\n",
       "      <td>17.00</td>\n",
       "      <td>1197</td>\n",
       "      <td>80.00</td>\n",
       "      <td>5</td>\n",
       "    </tr>\n",
       "    <tr>\n",
       "      <th>3</th>\n",
       "      <td>7</td>\n",
       "      <td>9</td>\n",
       "      <td>37000</td>\n",
       "      <td>Individual</td>\n",
       "      <td>Petrol</td>\n",
       "      <td>Manual</td>\n",
       "      <td>20.92</td>\n",
       "      <td>998</td>\n",
       "      <td>67.10</td>\n",
       "      <td>5</td>\n",
       "    </tr>\n",
       "    <tr>\n",
       "      <th>4</th>\n",
       "      <td>38</td>\n",
       "      <td>6</td>\n",
       "      <td>30000</td>\n",
       "      <td>Dealer</td>\n",
       "      <td>Diesel</td>\n",
       "      <td>Manual</td>\n",
       "      <td>22.77</td>\n",
       "      <td>1498</td>\n",
       "      <td>98.59</td>\n",
       "      <td>5</td>\n",
       "    </tr>\n",
       "  </tbody>\n",
       "</table>\n",
       "</div>"
      ],
      "text/plain": [
       "        model  vehicle_age  km_driven seller_type fuel_type transmission_type  \\\n",
       "SR.no                                                                           \n",
       "0           7            9     120000  Individual    Petrol            Manual   \n",
       "1          54            5      20000  Individual    Petrol            Manual   \n",
       "2         118           11      60000  Individual    Petrol            Manual   \n",
       "3           7            9      37000  Individual    Petrol            Manual   \n",
       "4          38            6      30000      Dealer    Diesel            Manual   \n",
       "\n",
       "        mileage  engine  max_power  seats  \n",
       "SR.no                                      \n",
       "0         19.70     796      46.30      5  \n",
       "1         18.90    1197      82.00      5  \n",
       "2         17.00    1197      80.00      5  \n",
       "3         20.92     998      67.10      5  \n",
       "4         22.77    1498      98.59      5  "
      ]
     },
     "execution_count": 18,
     "metadata": {},
     "output_type": "execute_result"
    }
   ],
   "source": [
    "X.head()"
   ]
  },
  {
   "cell_type": "markdown",
   "id": "d416f0aa-f02f-4f71-91ab-d8aa482dc5ef",
   "metadata": {},
   "source": [
    "### Checking Categorical feature count "
   ]
  },
  {
   "cell_type": "code",
   "execution_count": 19,
   "id": "8b88b888-6316-4061-9535-4e91798cd438",
   "metadata": {},
   "outputs": [
    {
     "data": {
      "text/plain": [
       "seller_type\n",
       "Dealer              9539\n",
       "Individual          5699\n",
       "Trustmark Dealer     173\n",
       "Name: count, dtype: int64"
      ]
     },
     "execution_count": 19,
     "metadata": {},
     "output_type": "execute_result"
    }
   ],
   "source": [
    "df['seller_type'].value_counts()"
   ]
  },
  {
   "cell_type": "code",
   "execution_count": 20,
   "id": "b91d3ed8-19f1-4151-a2da-82e3120bde44",
   "metadata": {},
   "outputs": [
    {
     "data": {
      "text/plain": [
       "fuel_type\n",
       "Petrol      7643\n",
       "Diesel      7419\n",
       "CNG          301\n",
       "LPG           44\n",
       "Electric       4\n",
       "Name: count, dtype: int64"
      ]
     },
     "execution_count": 20,
     "metadata": {},
     "output_type": "execute_result"
    }
   ],
   "source": [
    "df['fuel_type'].value_counts()"
   ]
  },
  {
   "cell_type": "code",
   "execution_count": 21,
   "id": "b55327f1-e8d8-40da-a00f-149384174ddb",
   "metadata": {},
   "outputs": [
    {
     "data": {
      "text/plain": [
       "transmission_type\n",
       "Manual       12225\n",
       "Automatic     3186\n",
       "Name: count, dtype: int64"
      ]
     },
     "execution_count": 21,
     "metadata": {},
     "output_type": "execute_result"
    }
   ],
   "source": [
    "df['transmission_type'].value_counts()"
   ]
  },
  {
   "cell_type": "code",
   "execution_count": null,
   "id": "dd649b04-89c0-49e9-96b6-d553adafc539",
   "metadata": {},
   "outputs": [],
   "source": []
  },
  {
   "cell_type": "markdown",
   "id": "79359b80-7961-485e-8036-7a72dcf48d1b",
   "metadata": {},
   "source": [
    "## feature Encoding and Scaling\n",
    "**OneHot Encoding for Columns which had lesser unique values and not ordinal value**\n",
    "\n",
    "- One hot encoding is a process by which categorical variables are converted a number"
   ]
  },
  {
   "cell_type": "code",
   "execution_count": 22,
   "id": "d66c48f2-07c3-42fd-978e-1b9d215a9493",
   "metadata": {},
   "outputs": [],
   "source": [
    "# Create column Transfermer with 3 types of transformers\n",
    "num_features = X.select_dtypes(exclude='object').columns\n",
    "onehot_columns = ['seller_type','fuel_type','transmission_type']\n",
    "\n",
    "from sklearn.preprocessing import OneHotEncoder,StandardScaler\n",
    "from sklearn.compose import ColumnTransformer\n",
    "\n",
    "numeric_transformer = StandardScaler()\n",
    "oh_transformer = OneHotEncoder(drop='first')\n",
    "\n",
    "preprocessor = ColumnTransformer(\n",
    "    [\n",
    "        (\"OneHotEncoder\", oh_transformer, onehot_columns),\n",
    "        (\"StandardScaler\", numeric_transformer, num_features)\n",
    "    ],remainder='passthrough'\n",
    "\n",
    ")     "
   ]
  },
  {
   "cell_type": "code",
   "execution_count": 23,
   "id": "2ba790d3-e233-4d08-8d02-996534b7ce12",
   "metadata": {},
   "outputs": [],
   "source": [
    "X=preprocessor.fit_transform(X)"
   ]
  },
  {
   "cell_type": "code",
   "execution_count": 24,
   "id": "7fba0eb6-a711-4f7b-80c9-c99a706f9a56",
   "metadata": {},
   "outputs": [
    {
     "data": {
      "text/plain": [
       "array([[ 1.        ,  0.        ,  0.        , ..., -1.32425883,\n",
       "        -1.26335238, -0.40302241],\n",
       "       [ 1.        ,  0.        ,  0.        , ..., -0.55471774,\n",
       "        -0.43257082, -0.40302241],\n",
       "       [ 1.        ,  0.        ,  0.        , ..., -0.55471774,\n",
       "        -0.47911321, -0.40302241],\n",
       "       ...,\n",
       "       [ 0.        ,  0.        ,  1.        , ...,  0.02291783,\n",
       "         0.06822523, -0.40302241],\n",
       "       [ 0.        ,  0.        ,  1.        , ...,  1.32979434,\n",
       "         0.91715831,  2.07344426],\n",
       "       [ 0.        ,  0.        ,  0.        , ...,  0.02099878,\n",
       "         0.39588361, -0.40302241]])"
      ]
     },
     "execution_count": 24,
     "metadata": {},
     "output_type": "execute_result"
    }
   ],
   "source": [
    "X"
   ]
  },
  {
   "cell_type": "code",
   "execution_count": 25,
   "id": "7f368132-e3cd-423b-87f8-b30dff9b7690",
   "metadata": {},
   "outputs": [],
   "source": [
    "# seprate dataset into train test \n",
    "X_train,X_test,y_train,y_test=train_test_split(X,y,test_size=0.25 , random_state=42)"
   ]
  },
  {
   "cell_type": "code",
   "execution_count": 26,
   "id": "85c4ca8d-c28f-4ce2-b5b0-30f8ccea8eb1",
   "metadata": {},
   "outputs": [
    {
     "data": {
      "text/plain": [
       "((11558, 14), (3853, 14))"
      ]
     },
     "execution_count": 26,
     "metadata": {},
     "output_type": "execute_result"
    }
   ],
   "source": [
    "X_train.shape,X_test.shape"
   ]
  },
  {
   "cell_type": "markdown",
   "id": "64f975d5-67c7-470b-b3bd-197e412bd5c4",
   "metadata": {},
   "source": [
    "# Model Training & Model Selection "
   ]
  },
  {
   "cell_type": "code",
   "execution_count": 34,
   "id": "87750c3e-5c3a-4d07-b6ea-c3968e4152ae",
   "metadata": {},
   "outputs": [],
   "source": [
    "from sklearn.ensemble import RandomForestRegressor\n",
    "from sklearn.ensemble import AdaBoostRegressor\n",
    "from sklearn.linear_model import LinearRegression, Ridge, Lasso\n",
    "from sklearn.neighbors import KNeighborsRegressor\n",
    "from sklearn.tree import DecisionTreeRegressor\n",
    "from sklearn.metrics import r2_score, mean_absolute_error, mean_squared_error"
   ]
  },
  {
   "cell_type": "code",
   "execution_count": 35,
   "id": "3f602a4c-7c6d-4b5f-8447-b3152b93f513",
   "metadata": {},
   "outputs": [],
   "source": [
    "# create Function to Evaluate Model \n",
    "def evaluate_model(true, predicted):\n",
    "    mae = mean_absolute_error(true, predicted)\n",
    "    mse = mean_squared_error(true, predicted)\n",
    "    rmse = np.sqrt(mse)\n",
    "    r2 = r2_score(true, predicted)\n",
    "    return mse, mae, rmse, r2"
   ]
  },
  {
   "cell_type": "code",
   "execution_count": 36,
   "id": "a3f1a197-9a70-47c2-bdfe-ccbb2f238e0e",
   "metadata": {},
   "outputs": [
    {
     "name": "stdout",
     "output_type": "stream",
     "text": [
      "Linear Regression\n",
      "Model Performance for training set\n",
      "- Mean Squared Error: 304874315292.8461\n",
      "- Mean Absolute Error: 266675.1076\n",
      "- Root Mean Squared Error: 552154.2495\n",
      "- R2 Score: 0.6220\n",
      "===================================\n",
      "Model Performance for test set\n",
      "- Mean Squared Error: 270286925822.7529\n",
      "- Mean Absolute Error: 284283.4460\n",
      "- Root Mean Squared Error: 519891.2635\n",
      "- R2 Score: 0.6525\n",
      "===================================\n",
      "\n",
      "\n",
      "Lasso\n",
      "Model Performance for training set\n",
      "- Mean Squared Error: 304874327628.1807\n",
      "- Mean Absolute Error: 266674.0472\n",
      "- Root Mean Squared Error: 552154.2607\n",
      "- R2 Score: 0.6220\n",
      "===================================\n",
      "Model Performance for test set\n",
      "- Mean Squared Error: 270286207881.6533\n",
      "- Mean Absolute Error: 284283.7890\n",
      "- Root Mean Squared Error: 519890.5730\n",
      "- R2 Score: 0.6525\n",
      "===================================\n",
      "\n",
      "\n",
      "Ridge\n",
      "Model Performance for training set\n",
      "- Mean Squared Error: 304875008766.8082\n",
      "- Mean Absolute Error: 266635.3662\n",
      "- Root Mean Squared Error: 552154.8775\n",
      "- R2 Score: 0.6220\n",
      "===================================\n",
      "Model Performance for test set\n",
      "- Mean Squared Error: 270275613895.9653\n",
      "- Mean Absolute Error: 284241.1129\n",
      "- Root Mean Squared Error: 519880.3842\n",
      "- R2 Score: 0.6525\n",
      "===================================\n",
      "\n",
      "\n",
      "K-Neighbors Regressor\n",
      "Model Performance for training set\n",
      "- Mean Squared Error: 108579261318.5672\n",
      "- Mean Absolute Error: 90967.3646\n",
      "- Root Mean Squared Error: 329513.6739\n",
      "- R2 Score: 0.8654\n",
      "===================================\n",
      "Model Performance for test set\n",
      "- Mean Squared Error: 78779566186.2510\n",
      "- Mean Absolute Error: 116579.3732\n",
      "- Root Mean Squared Error: 280676.9784\n",
      "- R2 Score: 0.8987\n",
      "===================================\n",
      "\n",
      "\n",
      "Decision Tree\n",
      "Model Performance for training set\n",
      "- Mean Squared Error: 426210181.9807\n",
      "- Mean Absolute Error: 4991.7517\n",
      "- Root Mean Squared Error: 20644.8585\n",
      "- R2 Score: 0.9995\n",
      "===================================\n",
      "Model Performance for test set\n",
      "- Mean Squared Error: 94913361458.4775\n",
      "- Mean Absolute Error: 131772.9237\n",
      "- Root Mean Squared Error: 308080.1218\n",
      "- R2 Score: 0.8780\n",
      "===================================\n",
      "\n",
      "\n",
      "Random Forest Regressor\n",
      "Model Performance for training set\n",
      "- Mean Squared Error: 21503213108.3965\n",
      "- Mean Absolute Error: 40053.4024\n",
      "- Root Mean Squared Error: 146639.7392\n",
      "- R2 Score: 0.9733\n",
      "===================================\n",
      "Model Performance for test set\n",
      "- Mean Squared Error: 59170168202.9575\n",
      "- Mean Absolute Error: 105330.4392\n",
      "- Root Mean Squared Error: 243249.1895\n",
      "- R2 Score: 0.9239\n",
      "===================================\n",
      "\n",
      "\n",
      "Adaboost Regressor\n",
      "Model Performance for training set\n",
      "- Mean Squared Error: 145466679034.6209\n",
      "- Mean Absolute Error: 259595.0316\n",
      "- Root Mean Squared Error: 381400.9426\n",
      "- R2 Score: 0.8196\n",
      "===================================\n",
      "Model Performance for test set\n",
      "- Mean Squared Error: 185112431507.8880\n",
      "- Mean Absolute Error: 281072.1246\n",
      "- Root Mean Squared Error: 430246.9425\n",
      "- R2 Score: 0.7620\n",
      "===================================\n",
      "\n",
      "\n"
     ]
    }
   ],
   "source": [
    "# Begnning Models Training\n",
    "models = {\n",
    "    \"Linear Regression\":LinearRegression(),\n",
    "    \"Lasso\": Lasso(),\n",
    "    \"Ridge\": Ridge(),\n",
    "    \"K-Neighbors Regressor\": KNeighborsRegressor(),\n",
    "    \"Decision Tree\": DecisionTreeRegressor(),\n",
    "    \"Random Forest Regressor\": RandomForestRegressor(),\n",
    "    \"Adaboost Regressor\": AdaBoostRegressor()\n",
    "\n",
    "}\n",
    "\n",
    "for i in range(len(models)):\n",
    "    model = list(models.values())[i]\n",
    "    model.fit(X_train, y_train)\n",
    "\n",
    "    # make prediction\n",
    "    y_train_pred = model.predict(X_train)\n",
    "    y_test_pred = model.predict(X_test)\n",
    "\n",
    "    # Evaluate Train and Test dataset\n",
    "    model_train_mse, model_train_mae, model_train_rmse, model_train_r2 = evaluate_model(y_train, y_train_pred)\n",
    "    model_test_mse, model_test_mae, model_test_rmse, model_test_r2 = evaluate_model(y_test, y_test_pred)\n",
    "    \n",
    "    print(list(models.keys())[i])\n",
    "\n",
    "    print(\"Model Performance for training set\")\n",
    "    print(\"- Mean Squared Error: {:.4f}\".format(model_train_mse))\n",
    "    print(\"- Mean Absolute Error: {:.4f}\".format(model_train_mae))\n",
    "    print(\"- Root Mean Squared Error: {:.4f}\".format(model_train_rmse))\n",
    "    print(\"- R2 Score: {:.4f}\".format(model_train_r2))\n",
    "\n",
    "    print(\"=\"*35)\n",
    "\n",
    "    print(\"Model Performance for test set\")\n",
    "    print(\"- Mean Squared Error: {:.4f}\".format(model_test_mse))\n",
    "    print(\"- Mean Absolute Error: {:.4f}\".format(model_test_mae))\n",
    "    print(\"- Root Mean Squared Error: {:.4f}\".format(model_test_rmse))\n",
    "    print(\"- R2 Score: {:.4f}\".format(model_test_r2))\n",
    "\n",
    "    print('='*35)\n",
    "    print('\\n')"
   ]
  },
  {
   "cell_type": "markdown",
   "id": "11866f10-dfc2-4f8e-ab73-aa8eaba23f33",
   "metadata": {},
   "source": [
    "# Hyperparameter tunning Best Model "
   ]
  },
  {
   "cell_type": "code",
   "execution_count": 37,
   "id": "abd5f810-b304-44f3-9c2e-d97b5b8c7750",
   "metadata": {},
   "outputs": [],
   "source": [
    "# Define the parameter grid\n",
    "Knn_params = {\n",
    "    'n_neighbors': [3, 5, 7, 9, 11, 13, 15],\n",
    "    'weights': ['uniform', 'distance'],\n",
    "    'algorithm': ['auto', 'ball_tree', 'kd_tree', 'brute'],\n",
    "    'leaf_size': [10, 20, 30, 40, 50],\n",
    "    'p': [1, 2]\n",
    "}\n",
    "\n",
    "rf_params = {\n",
    "    'n_estimators': [100, 200, 300],\n",
    "    'max_features': ['auto', 'sqrt', 'log2'],\n",
    "    'max_depth': [None, 10, 20, 30],\n",
    "    'min_samples_split': [2, 5, 10],\n",
    "    'min_samples_leaf': [1, 2, 4],\n",
    "    'bootstrap': [True, False]\n",
    "}\n",
    "\n",
    "ada_params = {\n",
    "    'n_estimators': [50,60,70,80,90],\n",
    "    'loss':['linear','square', 'exponential']\n",
    "\n",
    "}"
   ]
  },
  {
   "cell_type": "code",
   "execution_count": 38,
   "id": "8593dcf4-fb0d-4ce6-98aa-9ffe3d889318",
   "metadata": {},
   "outputs": [],
   "source": [
    "# Models \n",
    "randomcv_models =[('KNN', KNeighborsRegressor(), Knn_params),\n",
    "                  (\"RF\", RandomForestRegressor(), rf_params),\n",
    "                  (\"Adaboost\", AdaBoostRegressor(), ada_params)\n",
    "                 \n",
    "                 ]"
   ]
  },
  {
   "cell_type": "code",
   "execution_count": 39,
   "id": "ce12220a-7184-414d-850c-1a22129675d7",
   "metadata": {},
   "outputs": [
    {
     "name": "stdout",
     "output_type": "stream",
     "text": [
      "Fitting 3 folds for each of 100 candidates, totalling 300 fits\n",
      "Fitting 3 folds for each of 100 candidates, totalling 300 fits\n",
      "Fitting 3 folds for each of 15 candidates, totalling 45 fits\n",
      "-----------Best Params for KNN----------\n",
      "{'weights': 'distance', 'p': 1, 'n_neighbors': 3, 'leaf_size': 50, 'algorithm': 'ball_tree'}\n",
      "-----------Best Params for RF----------\n",
      "{'n_estimators': 100, 'min_samples_split': 5, 'min_samples_leaf': 1, 'max_features': 'log2', 'max_depth': 30, 'bootstrap': False}\n",
      "-----------Best Params for Adaboost----------\n",
      "{'n_estimators': 50, 'loss': 'linear'}\n"
     ]
    }
   ],
   "source": [
    "from sklearn.model_selection import RandomizedSearchCV\n",
    "\n",
    "model_param = {}\n",
    "for name, model, params in randomcv_models:\n",
    "    random =RandomizedSearchCV(estimator=model,\n",
    "                               param_distributions=params,\n",
    "                               n_iter=100,\n",
    "                               cv=3,\n",
    "                               verbose=2,\n",
    "                               n_jobs=-1)\n",
    "    random.fit(X_train, y_train)\n",
    "    model_param[name] = random.best_params_\n",
    "\n",
    "for model_name in model_param:\n",
    "    print(f\"-----------Best Params for {model_name}----------\")\n",
    "    print(model_param[model_name])\n",
    "                               "
   ]
  },
  {
   "cell_type": "code",
   "execution_count": 40,
   "id": "79740b55-5f98-4a22-b11f-547fbf9feda3",
   "metadata": {},
   "outputs": [
    {
     "name": "stdout",
     "output_type": "stream",
     "text": [
      "K-Neighbors Regressor\n",
      "Model Performance for training set\n",
      "- Mean Squared Error: 430455874.7188\n",
      "- Mean Absolute Error: 5011.8821\n",
      "- Root Mean Squared Error: 20747.4306\n",
      "- R2 Score: 0.9995\n",
      "===================================\n",
      "Model Performance for test set\n",
      "- Mean Squared Error: 77769520745.2207\n",
      "- Mean Absolute Error: 109415.4372\n",
      "- Root Mean Squared Error: 278871.8716\n",
      "- R2 Score: 0.9000\n",
      "===================================\n",
      "\n",
      "\n",
      "Random Forest Regressor\n",
      "Model Performance for training set\n",
      "- Mean Squared Error: 23239946377.0574\n",
      "- Mean Absolute Error: 89601.6125\n",
      "- Root Mean Squared Error: 152446.5361\n",
      "- R2 Score: 0.9712\n",
      "===================================\n",
      "Model Performance for test set\n",
      "- Mean Squared Error: 63216534183.1003\n",
      "- Mean Absolute Error: 115824.3248\n",
      "- Root Mean Squared Error: 251428.9844\n",
      "- R2 Score: 0.9187\n",
      "===================================\n",
      "\n",
      "\n",
      "AdaBoost\n",
      "Model Performance for training set\n",
      "- Mean Squared Error: 197509546689.5826\n",
      "- Mean Absolute Error: 344570.0807\n",
      "- Root Mean Squared Error: 444420.4616\n",
      "- R2 Score: 0.7551\n",
      "===================================\n",
      "Model Performance for test set\n",
      "- Mean Squared Error: 233545682634.6334\n",
      "- Mean Absolute Error: 366444.0440\n",
      "- Root Mean Squared Error: 483265.6440\n",
      "- R2 Score: 0.6997\n",
      "===================================\n",
      "\n",
      "\n"
     ]
    }
   ],
   "source": [
    "models = {\n",
    "\n",
    "    \"K-Neighbors Regressor\": KNeighborsRegressor(weights='distance', p=1, n_neighbors= 3, \n",
    "                                                 leaf_size=30, algorithm='ball_tree'),\n",
    "    \n",
    "    \"Random Forest Regressor\": RandomForestRegressor(n_estimators=100, min_samples_split= 2, \n",
    "                                                     min_samples_leaf= 1, max_features= 'sqrt', max_depth= 10,\n",
    "                                                     bootstrap= False),\n",
    "    \"AdaBoost\": AdaBoostRegressor(n_estimators=50, loss='linear')\n",
    "\n",
    "}\n",
    "\n",
    "for i in range(len(models)):\n",
    "    model = list(models.values())[i]\n",
    "    model.fit(X_train, y_train)\n",
    "\n",
    "    # make prediction\n",
    "    y_train_pred = model.predict(X_train)\n",
    "    y_test_pred = model.predict(X_test)\n",
    "\n",
    "    # Evaluate Train and Test dataset\n",
    "    model_train_mse, model_train_mae, model_train_rmse, model_train_r2 = evaluate_model(y_train, y_train_pred)\n",
    "    model_test_mse, model_test_mae, model_test_rmse, model_test_r2 = evaluate_model(y_test, y_test_pred)\n",
    "    \n",
    "    print(list(models.keys())[i])\n",
    "\n",
    "    print(\"Model Performance for training set\")\n",
    "    print(\"- Mean Squared Error: {:.4f}\".format(model_train_mse))\n",
    "    print(\"- Mean Absolute Error: {:.4f}\".format(model_train_mae))\n",
    "    print(\"- Root Mean Squared Error: {:.4f}\".format(model_train_rmse))\n",
    "    print(\"- R2 Score: {:.4f}\".format(model_train_r2))\n",
    "\n",
    "    print(\"=\"*35)\n",
    "\n",
    "    print(\"Model Performance for test set\")\n",
    "    print(\"- Mean Squared Error: {:.4f}\".format(model_test_mse))\n",
    "    print(\"- Mean Absolute Error: {:.4f}\".format(model_test_mae))\n",
    "    print(\"- Root Mean Squared Error: {:.4f}\".format(model_test_rmse))\n",
    "    print(\"- R2 Score: {:.4f}\".format(model_test_r2))\n",
    "\n",
    "    print('='*35)\n",
    "    print('\\n')"
   ]
  },
  {
   "cell_type": "code",
   "execution_count": null,
   "id": "e6b9ae88-da18-45d8-a381-4a201fbc5857",
   "metadata": {},
   "outputs": [],
   "source": []
  }
 ],
 "metadata": {
  "kernelspec": {
   "display_name": "Python 3 (ipykernel)",
   "language": "python",
   "name": "python3"
  },
  "language_info": {
   "codemirror_mode": {
    "name": "ipython",
    "version": 3
   },
   "file_extension": ".py",
   "mimetype": "text/x-python",
   "name": "python",
   "nbconvert_exporter": "python",
   "pygments_lexer": "ipython3",
   "version": "3.11.7"
  }
 },
 "nbformat": 4,
 "nbformat_minor": 5
}
